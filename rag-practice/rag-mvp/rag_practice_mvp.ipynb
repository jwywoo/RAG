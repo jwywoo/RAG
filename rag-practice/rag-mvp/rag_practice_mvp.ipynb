{
  "cells": [
    {
      "cell_type": "markdown",
      "metadata": {
        "id": "mIq7xxIoE_zI"
      },
      "source": [
        "## Virtual Env Set and Required Installation"
      ]
    },
    {
      "cell_type": "code",
      "execution_count": 22,
      "metadata": {
        "collapsed": true,
        "id": "P7HxgabrYYWU"
      },
      "outputs": [],
      "source": [
        "# ! apt install python3.10-venv"
      ]
    },
    {
      "cell_type": "code",
      "execution_count": 23,
      "metadata": {
        "id": "9BOIS1oOAXC8"
      },
      "outputs": [],
      "source": [
        "# ! python3.10 -m venv rag_prac_env"
      ]
    },
    {
      "cell_type": "code",
      "execution_count": 24,
      "metadata": {
        "id": "RyqYYtNXAbeU"
      },
      "outputs": [],
      "source": [
        "!source /content/rag_prac_env/bin/activate"
      ]
    },
    {
      "cell_type": "markdown",
      "metadata": {
        "id": "M_uaEE1riqLq"
      },
      "source": [
        "### Installation\n",
        "- openai: LLM model\n",
        "- langchain: LLM Application Framework\n",
        "- unstructured: To deal with non-structured data\n",
        "- chromadb: Vector db\n",
        "- sentence_transformers: Embedding Model"
      ]
    },
    {
      "cell_type": "code",
      "execution_count": null,
      "metadata": {
        "colab": {
          "base_uri": "https://localhost:8080/"
        },
        "collapsed": true,
        "id": "JcOXOOkjAkEu",
        "outputId": "058a6d55-cc6f-4ae4-9e23-5343fb04f42a"
      },
      "outputs": [],
      "source": [
        "# !rag_prac_env/bin/pip install langchain\n",
        "# !rag_prac_env/bin/pip install openai\n",
        "# !rag_prac_env/bin/pip install huggingface_hub\n",
        "# !rag_prac_env/bin/pip install streamlit\n",
        "# !rag_prac_env/bin/pip install chromadb\n",
        "# !rag_prac_env/bin/pip install unstructured\n",
        "# !rag_prac_env/bin/pip install sentence-transformers\n",
        "# !rag_prac_env/bin/pip install -U langchain-community"
      ]
    },
    {
      "cell_type": "markdown",
      "metadata": {
        "id": "BSsSHCPRFJ4C"
      },
      "source": [
        "## Imports"
      ]
    },
    {
      "cell_type": "code",
      "execution_count": 37,
      "metadata": {
        "colab": {
          "base_uri": "https://localhost:8080/"
        },
        "id": "8Rr8qEVcFIkk",
        "outputId": "a972b5b2-9845-47c2-8f67-3bd13c36904e"
      },
      "outputs": [
        {
          "name": "stdout",
          "output_type": "stream",
          "text": [
            "Drive already mounted at /content/drive; to attempt to forcibly remount, call drive.mount(\"/content/drive\", force_remount=True).\n"
          ]
        }
      ],
      "source": [
        "import sys\n",
        "import os\n",
        "sys.path.append('/content/rag_prac_env/lib/python3.10/site-packages')\n",
        "\n",
        "from google.colab import drive\n",
        "from google.colab import files\n",
        "from google.colab import userdata\n",
        "drive.mount('/content/drive')"
      ]
    },
    {
      "cell_type": "markdown",
      "metadata": {
        "id": "4N4yXATAFTBS"
      },
      "source": [
        "## Dataset Preparation\n"
      ]
    },
    {
      "cell_type": "markdown",
      "metadata": {
        "id": "X0SnkHWMjwPZ"
      },
      "source": [
        "### Imports\n",
        "- `from langchain.document_loaders import TextLoader`: To load data\n",
        "- `from langchain.text_splitter import RecursiveCharacterTextSplitter`: to chunk huge text to into smaller text\n",
        "- `from langchain.embeddings import SentenceTransformerEmbeddings`: Embedding models to use\n",
        "- `from langchain.vectorstores import Chroma`: Vectors DB to store after embedding"
      ]
    },
    {
      "cell_type": "code",
      "execution_count": 38,
      "metadata": {
        "id": "D2-zVLqPjv5h"
      },
      "outputs": [],
      "source": [
        "from langchain.document_loaders import TextLoader\n",
        "from langchain.text_splitter import RecursiveCharacterTextSplitter\n",
        "from langchain.embeddings import SentenceTransformerEmbeddings\n",
        "from langchain.vectorstores import Chroma"
      ]
    },
    {
      "cell_type": "markdown",
      "metadata": {
        "id": "haivwkPuoQG7"
      },
      "source": [
        "### Loading & Embedding"
      ]
    },
    {
      "cell_type": "code",
      "execution_count": 39,
      "metadata": {
        "id": "sz71UScrmu6w"
      },
      "outputs": [],
      "source": [
        "# Loading\n",
        "directory_path = '/content/drive/MyDrive/RAG_DATA'\n",
        "if not os.path.exists(directory_path):\n",
        "    os.makedirs(directory_path)\n",
        "\n",
        "given_text = os.path.join(directory_path, 'seongbuk.txt')\n",
        "documents = TextLoader(given_text).load()"
      ]
    },
    {
      "cell_type": "code",
      "execution_count": 40,
      "metadata": {
        "id": "1kTX6fE7nEGc"
      },
      "outputs": [],
      "source": [
        "# Chunking\n",
        "def chunking_dcos(documents, chunk_size=1000, chunk_overlap=20):\n",
        "    text_splitter = RecursiveCharacterTextSplitter(chunk_size=chunk_size, chunk_overlap=chunk_overlap)\n",
        "    docs = text_splitter.split_documents(documents)\n",
        "    return docs\n",
        "\n",
        "chunked_docs = chunking_dcos(documents=documents)"
      ]
    },
    {
      "cell_type": "code",
      "execution_count": 41,
      "metadata": {
        "collapsed": true,
        "id": "5hyOL1ovn7oj"
      },
      "outputs": [],
      "source": [
        "# Embedding Storing\n",
        "embeddings = SentenceTransformerEmbeddings(model_name=\"all-MiniLM-L6-v2\")\n",
        "db = Chroma.from_documents(chunked_docs, embeddings)"
      ]
    },
    {
      "cell_type": "markdown",
      "metadata": {
        "id": "EDBSfnzPpQoy"
      },
      "source": [
        "## Retreival & Generation\n"
      ]
    },
    {
      "cell_type": "markdown",
      "metadata": {
        "id": "4ABRD2iKqsS6"
      },
      "source": [
        "### Imports"
      ]
    },
    {
      "cell_type": "code",
      "execution_count": 43,
      "metadata": {
        "id": "mqjEhSq2pUm-"
      },
      "outputs": [],
      "source": [
        "from langchain.chat_models import ChatOpenAI\n",
        "from langchain.chains.question_answering import load_qa_chain\n",
        "\n",
        "os.environ['OPENAI_API_KEY'] = userdata.get('openAI')"
      ]
    },
    {
      "cell_type": "markdown",
      "metadata": {
        "id": "kln_vVUhquDa"
      },
      "source": [
        "### Query, Retreiving & Generating\n"
      ]
    },
    {
      "cell_type": "code",
      "execution_count": 49,
      "metadata": {
        "colab": {
          "base_uri": "https://localhost:8080/",
          "height": 1000
        },
        "id": "v6P9t-x8rRRl",
        "outputId": "4f2f2f6a-7bf0-4e2a-89e3-b8f5a884d42e"
      },
      "outputs": [
        {
          "name": "stdout",
          "output_type": "stream",
          "text": [
            "\n",
            "\n",
            "\u001b[1m> Entering new StuffDocumentsChain chain...\u001b[0m\n",
            "\n",
            "\n",
            "\u001b[1m> Entering new LLMChain chain...\u001b[0m\n",
            "Prompt after formatting:\n",
            "\u001b[32;1m\u001b[1;3mSystem: Use the following pieces of context to answer the user's question. \n",
            "If you don't know the answer, just say that you don't know, don't try to make up an answer.\n",
            "----------------\n",
            "성북구 나선거구 (정릉1동, 정릉2동, 정릉3동, 정릉4동, 길음1동): 정윤주, 양순임, 이용진\n",
            "성북구 다선거구 (돈암1동, 종암동): 오중균\n",
            "성북구 라선거구 (길음2동, 월곡1동, 월곡2동): 이인순, 정해숙\n",
            "성북구 마선거구 (장위1동, 장위2동): 김경이\n",
            "성북구 바선거구 (장위3동, 석관동): 이호건\n",
            "비례대표: 경수현\n",
            "[5] 성북구 가선거구 (성북동, 삼선동, 동선동, 돈암2동, 안암동, 보문동): 이관우, 정병기\n",
            "성북구 나선거구 (정릉1동, 정릉2동, 정릉3동, 정릉4동, 길음1동): 임현주, 박영섭\n",
            "성북구 다선거구 (돈암1동, 종암동): 권영애\n",
            "성북구 라선거구 (길음2동, 월곡1동, 월곡2동): 이일준\n",
            "성북구 마선거구 (장위1동, 장위2동): 진선아\n",
            "성북구 바선거구 (장위3동, 석관동): 정기혁\n",
            "비례대표: 강수진, 고영옥\n",
            "[6] 성북구 제2선거구 (정릉1동, 정릉2동, 정릉3동, 정릉4동, 길음1동): 김원중 (초선)\n",
            "성북구 제4선거구 (장위1동, 장위2동, 장위3동, 석관동): 김태수 (초선)\n",
            "[7] 성북구 제1선거구 (성북동, 삼선동, 동선동, 돈암2동, 안암동, 보문동): 한신 (초선)\n",
            "성북구 제3선거구 (돈암제1동, 길음제2동, 종암동, 월곡제1동, 월곡제2동): 강동길 (재선)\n",
            "[8] 노원구, 중랑구와 접하긴 하지만 실제로 성북구의 중심가와는 멀리 떨어져 있으며, 성북구의 미아리고개 너머 지역하고도 인접해 있다고 보기는 어렵고 석관동에서만 중랑천을 끼고 살짝 인접한다. 노원구의 경우 장위동, 석관동과 인접해서 중랑구에 비해 조금 가깝지만 여기도 미아사거리에서 그렇게 가깝지는 않으며 성북구의 중심가와는 한참 떨어져 있다. 애초에 장위, 석관, 월곡은 동대문구의 이문동 생활권이며 가장 인접한 지역이 미아 지역으로, 이문 - 미아 생활권이다.\n",
            "\n",
            "성북구 나선거구 (정릉1동, 정릉2동, 정릉3동, 정릉4동, 길음1동): 정윤주, 양순임, 이용진\n",
            "성북구 다선거구 (돈암1동, 종암동): 오중균\n",
            "성북구 라선거구 (길음2동, 월곡1동, 월곡2동): 이인순, 정해숙\n",
            "성북구 마선거구 (장위1동, 장위2동): 김경이\n",
            "성북구 바선거구 (장위3동, 석관동): 이호건\n",
            "비례대표: 경수현\n",
            "[5] 성북구 가선거구 (성북동, 삼선동, 동선동, 돈암2동, 안암동, 보문동): 이관우, 정병기\n",
            "성북구 나선거구 (정릉1동, 정릉2동, 정릉3동, 정릉4동, 길음1동): 임현주, 박영섭\n",
            "성북구 다선거구 (돈암1동, 종암동): 권영애\n",
            "성북구 라선거구 (길음2동, 월곡1동, 월곡2동): 이일준\n",
            "성북구 마선거구 (장위1동, 장위2동): 진선아\n",
            "성북구 바선거구 (장위3동, 석관동): 정기혁\n",
            "비례대표: 강수진, 고영옥\n",
            "[6] 성북구 제2선거구 (정릉1동, 정릉2동, 정릉3동, 정릉4동, 길음1동): 김원중 (초선)\n",
            "성북구 제4선거구 (장위1동, 장위2동, 장위3동, 석관동): 김태수 (초선)\n",
            "[7] 성북구 제1선거구 (성북동, 삼선동, 동선동, 돈암2동, 안암동, 보문동): 한신 (초선)\n",
            "성북구 제3선거구 (돈암제1동, 길음제2동, 종암동, 월곡제1동, 월곡제2동): 강동길 (재선)\n",
            "[8] 노원구, 중랑구와 접하긴 하지만 실제로 성북구의 중심가와는 멀리 떨어져 있으며, 성북구의 미아리고개 너머 지역하고도 인접해 있다고 보기는 어렵고 석관동에서만 중랑천을 끼고 살짝 인접한다. 노원구의 경우 장위동, 석관동과 인접해서 중랑구에 비해 조금 가깝지만 여기도 미아사거리에서 그렇게 가깝지는 않으며 성북구의 중심가와는 한참 떨어져 있다. 애초에 장위, 석관, 월곡은 동대문구의 이문동 생활권이며 가장 인접한 지역이 미아 지역으로, 이문 - 미아 생활권이다.\n",
            "\n",
            "이름은 한양도성의 북쪽에 있다는 뜻이다. 성동구도 마찬가지. 성북구 내의 성북동도 서울 성곽 바로 북쪽에 있다.\n",
            "1.1. 상징[편집]\n",
            "서울특별시 성북구의 휘장\n",
            "성북구 CI(1994-2009...\n",
            "(알 수 없음)~2009년 2월 28일\n",
            "과거부터 2009년 2월 28일까지 사용됐던 성북구의 휘장이다.\n",
            "성북구 CI\n",
            "2009년 3월 1일~현재\n",
            "2009년 3월 1일부터 현재까지 사용 중인 성북구의 휘장이다. 100개의 원은 문화재, 명소, 자연 등으로 이뤄진 성북 100경을 뜻한다. 부드러운 곡선은 되살아난 성북천을 표현하며, 방향성을 지닌 역동적인 이미지는 진취적이고 미래지향적인 추진력을 나타낸다. 특히 100개의 원은 성북 100경과 함께 구민 한 명 한 명을 의미하기도 하는데 비록 작은 원이지만 모이면 큰 흐름이 돼 어려운 시대를 헤쳐나가는 큰 물결이 되는 것을 상징하고 있다. 주 색상은 청색과 녹색인데, 청색은 성북천과 청렴한 구정을, 녹색은 성북의 자연경관과 희망을 상징한다. #\n",
            "서울특별시 성북구의 브랜드\n",
            "성북구 BI 1\n",
            "현재 사용 중인 성북구의 브랜드 이미지이다. 2가지 형태로 이루어져 있다.\n",
            "성북구 BI 2\n",
            "2022~현재\n",
            "1.2. 구가(區歌)[편집]\n",
            "그 먼 날 북소리가 천지를 뒤흔들고\n",
            "겨레가 깃발 아래 들끓어 치닫던 날\n",
            "성북은 하늘처럼 북한산 떠받들어\n",
            "지켜온 천년 사직 부둥켜 안았더니\n",
            "성북구 구가 中, 양만규 작사 / 김영광 작곡\n",
            "\n",
            "이름은 한양도성의 북쪽에 있다는 뜻이다. 성동구도 마찬가지. 성북구 내의 성북동도 서울 성곽 바로 북쪽에 있다.\n",
            "1.1. 상징[편집]\n",
            "서울특별시 성북구의 휘장\n",
            "성북구 CI(1994-2009...\n",
            "(알 수 없음)~2009년 2월 28일\n",
            "과거부터 2009년 2월 28일까지 사용됐던 성북구의 휘장이다.\n",
            "성북구 CI\n",
            "2009년 3월 1일~현재\n",
            "2009년 3월 1일부터 현재까지 사용 중인 성북구의 휘장이다. 100개의 원은 문화재, 명소, 자연 등으로 이뤄진 성북 100경을 뜻한다. 부드러운 곡선은 되살아난 성북천을 표현하며, 방향성을 지닌 역동적인 이미지는 진취적이고 미래지향적인 추진력을 나타낸다. 특히 100개의 원은 성북 100경과 함께 구민 한 명 한 명을 의미하기도 하는데 비록 작은 원이지만 모이면 큰 흐름이 돼 어려운 시대를 헤쳐나가는 큰 물결이 되는 것을 상징하고 있다. 주 색상은 청색과 녹색인데, 청색은 성북천과 청렴한 구정을, 녹색은 성북의 자연경관과 희망을 상징한다. #\n",
            "서울특별시 성북구의 브랜드\n",
            "성북구 BI 1\n",
            "현재 사용 중인 성북구의 브랜드 이미지이다. 2가지 형태로 이루어져 있다.\n",
            "성북구 BI 2\n",
            "2022~현재\n",
            "1.2. 구가(區歌)[편집]\n",
            "그 먼 날 북소리가 천지를 뒤흔들고\n",
            "겨레가 깃발 아래 들끓어 치닫던 날\n",
            "성북은 하늘처럼 북한산 떠받들어\n",
            "지켜온 천년 사직 부둥켜 안았더니\n",
            "성북구 구가 中, 양만규 작사 / 김영광 작곡\n",
            "Human: 성북구에서 데이트 코스짜줘\u001b[0m\n",
            "\n",
            "\u001b[1m> Finished chain.\u001b[0m\n",
            "\n",
            "\u001b[1m> Finished chain.\u001b[0m\n"
          ]
        },
        {
          "data": {
            "application/vnd.google.colaboratory.intrinsic+json": {
              "type": "string"
            },
            "text/plain": [
              "'죄송합니다. 제가 성북구에 관한 데이트 코스에 대해 알고 있지는 않습니다. 다른 도움이 필요하시다면 더 알려드릴 수 있는 것이 있다면 알려주세요!'"
            ]
          },
          "execution_count": 49,
          "metadata": {},
          "output_type": "execute_result"
        }
      ],
      "source": [
        "# LLM Model\n",
        "model_name = \"gpt-3.5-turbo\"\n",
        "llm = ChatOpenAI(model_name=model_name)\n",
        "\n",
        "# Using Q&A Chain to get answer\n",
        "chain = load_qa_chain(llm, chain_type=\"stuff\", verbose=True)\n",
        "\n",
        "query = \"성북구에서 데이트 코스짜줘\"\n",
        "# Retreiving and Generating\n",
        "matching_docs = db.similarity_search(query)\n",
        "answer = chain.run(input_documents=matching_docs, question=query)\n",
        "answer"
      ]
    }
  ],
  "metadata": {
    "colab": {
      "provenance": []
    },
    "kernelspec": {
      "display_name": "Python 3",
      "name": "python3"
    },
    "language_info": {
      "name": "python"
    }
  },
  "nbformat": 4,
  "nbformat_minor": 0
}
