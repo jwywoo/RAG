{
  "nbformat": 4,
  "nbformat_minor": 0,
  "metadata": {
    "colab": {
      "provenance": [],
      "collapsed_sections": [
        "NIgxbDq2T85c",
        "UR2kab6qXy4l",
        "-ObOJIHeXv1y",
        "PxxQYUKqXvPQ"
      ]
    },
    "kernelspec": {
      "name": "python3",
      "display_name": "Python 3"
    },
    "language_info": {
      "name": "python"
    }
  },
  "cells": [
    {
      "cell_type": "markdown",
      "source": [
        "## Colab Imports"
      ],
      "metadata": {
        "id": "NIgxbDq2T85c"
      }
    },
    {
      "cell_type": "code",
      "execution_count": null,
      "metadata": {
        "colab": {
          "base_uri": "https://localhost:8080/"
        },
        "id": "TMDCjCNTTtzg",
        "outputId": "0d7908d2-642d-4446-fd85-13232a1e454e"
      },
      "outputs": [
        {
          "output_type": "stream",
          "name": "stdout",
          "text": [
            "Mounted at /content/drive\n"
          ]
        }
      ],
      "source": [
        "from google.colab import drive\n",
        "from google.colab import userdata\n",
        "drive.mount('/content/drive')"
      ]
    },
    {
      "cell_type": "markdown",
      "source": [
        "## Installation"
      ],
      "metadata": {
        "id": "UR2kab6qXy4l"
      }
    },
    {
      "cell_type": "code",
      "source": [
        "!pip install -qU langchain-community faiss-cpu langchain-openai langchain langchainhub"
      ],
      "metadata": {
        "colab": {
          "base_uri": "https://localhost:8080/"
        },
        "id": "pOtITdtpXzGq",
        "outputId": "1a8d9975-3ad9-4239-c069-34621ed87cbd"
      },
      "execution_count": null,
      "outputs": [
        {
          "output_type": "stream",
          "name": "stdout",
          "text": [
            "\u001b[2K     \u001b[90m━━━━━━━━━━━━━━━━━━━━━━━━━━━━━━━━━━━━━━━━\u001b[0m \u001b[32m50.4/50.4 kB\u001b[0m \u001b[31m835.3 kB/s\u001b[0m eta \u001b[36m0:00:00\u001b[0m\n",
            "\u001b[2K   \u001b[90m━━━━━━━━━━━━━━━━━━━━━━━━━━━━━━━━━━━━━━━━\u001b[0m \u001b[32m2.3/2.3 MB\u001b[0m \u001b[31m28.3 MB/s\u001b[0m eta \u001b[36m0:00:00\u001b[0m\n",
            "\u001b[2K   \u001b[90m━━━━━━━━━━━━━━━━━━━━━━━━━━━━━━━━━━━━━━━━\u001b[0m \u001b[32m27.0/27.0 MB\u001b[0m \u001b[31m48.1 MB/s\u001b[0m eta \u001b[36m0:00:00\u001b[0m\n",
            "\u001b[2K   \u001b[90m━━━━━━━━━━━━━━━━━━━━━━━━━━━━━━━━━━━━━━━━\u001b[0m \u001b[32m52.0/52.0 kB\u001b[0m \u001b[31m3.5 MB/s\u001b[0m eta \u001b[36m0:00:00\u001b[0m\n",
            "\u001b[2K   \u001b[90m━━━━━━━━━━━━━━━━━━━━━━━━━━━━━━━━━━━━━━━━\u001b[0m \u001b[32m1.0/1.0 MB\u001b[0m \u001b[31m39.5 MB/s\u001b[0m eta \u001b[36m0:00:00\u001b[0m\n",
            "\u001b[2K   \u001b[90m━━━━━━━━━━━━━━━━━━━━━━━━━━━━━━━━━━━━━━━━\u001b[0m \u001b[32m396.2/396.2 kB\u001b[0m \u001b[31m15.8 MB/s\u001b[0m eta \u001b[36m0:00:00\u001b[0m\n",
            "\u001b[2K   \u001b[90m━━━━━━━━━━━━━━━━━━━━━━━━━━━━━━━━━━━━━━━━\u001b[0m \u001b[32m150.7/150.7 kB\u001b[0m \u001b[31m8.7 MB/s\u001b[0m eta \u001b[36m0:00:00\u001b[0m\n",
            "\u001b[2K   \u001b[90m━━━━━━━━━━━━━━━━━━━━━━━━━━━━━━━━━━━━━━━━\u001b[0m \u001b[32m365.7/365.7 kB\u001b[0m \u001b[31m18.1 MB/s\u001b[0m eta \u001b[36m0:00:00\u001b[0m\n",
            "\u001b[2K   \u001b[90m━━━━━━━━━━━━━━━━━━━━━━━━━━━━━━━━━━━━━━━━\u001b[0m \u001b[32m1.1/1.1 MB\u001b[0m \u001b[31m28.1 MB/s\u001b[0m eta \u001b[36m0:00:00\u001b[0m\n",
            "\u001b[2K   \u001b[90m━━━━━━━━━━━━━━━━━━━━━━━━━━━━━━━━━━━━━━━━\u001b[0m \u001b[32m76.4/76.4 kB\u001b[0m \u001b[31m4.8 MB/s\u001b[0m eta \u001b[36m0:00:00\u001b[0m\n",
            "\u001b[2K   \u001b[90m━━━━━━━━━━━━━━━━━━━━━━━━━━━━━━━━━━━━━━━━\u001b[0m \u001b[32m77.9/77.9 kB\u001b[0m \u001b[31m5.5 MB/s\u001b[0m eta \u001b[36m0:00:00\u001b[0m\n",
            "\u001b[2K   \u001b[90m━━━━━━━━━━━━━━━━━━━━━━━━━━━━━━━━━━━━━━━━\u001b[0m \u001b[32m318.9/318.9 kB\u001b[0m \u001b[31m19.6 MB/s\u001b[0m eta \u001b[36m0:00:00\u001b[0m\n",
            "\u001b[2K   \u001b[90m━━━━━━━━━━━━━━━━━━━━━━━━━━━━━━━━━━━━━━━━\u001b[0m \u001b[32m49.3/49.3 kB\u001b[0m \u001b[31m2.9 MB/s\u001b[0m eta \u001b[36m0:00:00\u001b[0m\n",
            "\u001b[2K   \u001b[90m━━━━━━━━━━━━━━━━━━━━━━━━━━━━━━━━━━━━━━━━\u001b[0m \u001b[32m141.9/141.9 kB\u001b[0m \u001b[31m9.6 MB/s\u001b[0m eta \u001b[36m0:00:00\u001b[0m\n",
            "\u001b[2K   \u001b[90m━━━━━━━━━━━━━━━━━━━━━━━━━━━━━━━━━━━━━━━━\u001b[0m \u001b[32m58.3/58.3 kB\u001b[0m \u001b[31m4.1 MB/s\u001b[0m eta \u001b[36m0:00:00\u001b[0m\n",
            "\u001b[?25h"
          ]
        }
      ]
    },
    {
      "cell_type": "markdown",
      "source": [
        "## Env Setting"
      ],
      "metadata": {
        "id": "-ObOJIHeXv1y"
      }
    },
    {
      "cell_type": "code",
      "source": [
        "import os\n",
        "from langchain_openai import OpenAIEmbeddings\n",
        "\n",
        "\n",
        "os.environ['OPENAI_API_KEY'] = userdata.get('openAI')\n",
        "\n",
        "\n",
        "embeddings = OpenAIEmbeddings(model=\"text-embedding-3-large\")\n",
        "\n",
        "\n",
        "# Index Path(Directory to save initialized index)\n",
        "DRIVE_PATH = '/content/drive/MyDrive/RAG_JSON_EMBEDDINGS_INDEX'\n",
        "INDEX_DIR_PATH = os.path.join(DRIVE_PATH, \"INDEX\")\n",
        "HA_INDEX_PATH = os.path.join(INDEX_DIR_PATH, \"HA_INDEX\")\n",
        "if not os.path.exists(INDEX_DIR_PATH):\n",
        "    os.makedirs(INDEX_DIR_PATH)\n",
        "faiss_index_path = os.path.join(HA_INDEX_PATH, \"combined_faiss_index\")\n",
        "\n",
        "print(faiss_index_path)"
      ],
      "metadata": {
        "colab": {
          "base_uri": "https://localhost:8080/"
        },
        "id": "NdXyckKOXvg9",
        "outputId": "ceae822c-4383-44ea-edf9-ded5f9ecef3d"
      },
      "execution_count": null,
      "outputs": [
        {
          "output_type": "stream",
          "name": "stdout",
          "text": [
            "/content/drive/MyDrive/RAG_JSON_EMBEDDINGS_INDEX/INDEX/HA_INDEX/combined_faiss_index\n"
          ]
        }
      ]
    },
    {
      "cell_type": "markdown",
      "source": [
        "## Index Loading"
      ],
      "metadata": {
        "id": "PxxQYUKqXvPQ"
      }
    },
    {
      "cell_type": "code",
      "source": [
        "# Faiss index set\n",
        "import faiss\n",
        "from langchain_community.docstore.in_memory import InMemoryDocstore\n",
        "from langchain_community.vectorstores import FAISS\n",
        "\n",
        "loaded_vector_store = FAISS.load_local(\n",
        "    faiss_index_path, embeddings, allow_dangerous_deserialization=True\n",
        "    )"
      ],
      "metadata": {
        "id": "3QWigJVbXvGZ"
      },
      "execution_count": null,
      "outputs": []
    },
    {
      "cell_type": "markdown",
      "source": [
        "## Query Analyzer + Retrieval Chain"
      ],
      "metadata": {
        "id": "nfEnpC8MXu9i"
      }
    },
    {
      "cell_type": "code",
      "source": [
        "from langchain.prompts import ChatPromptTemplate\n",
        "\n",
        "# Multi Query: Different Perspectives\n",
        "template = \"\"\"\n",
        "    You are an expert planning a date for loved one, family and friends.\n",
        "    Your task is retrieving relevant data to generate a date plan.\n",
        "    You have access to a database of locations for dating in Seoul.\n",
        "    Your task is to generate five different versions of the given user question to retrieve relevant documents from a vector\n",
        "    database.\n",
        "    By generating multiple perspectives on the user question, your goal is to help the user overcome some of the limitations of the distance-based similarity search.\n",
        "\n",
        "\n",
        "    Each row in the table represents a location and its featrues.\n",
        "    Features are separated by [SEP].\n",
        "    If a row have 'None' in the feature, it means that the row doens't have that feature.\n",
        "    Every row is in Korean while column names are in English.\n",
        "    Provide these alternative questions separated by newlines.\n",
        "    Original question: {question}\"\"\"\n",
        "prompt_perspectives = ChatPromptTemplate.from_template(template)\n",
        "\n",
        "from langchain_core.output_parsers import StrOutputParser\n",
        "from langchain_openai import ChatOpenAI\n",
        "\n",
        "generate_queries = (\n",
        "    prompt_perspectives\n",
        "    | ChatOpenAI(temperature=0)\n",
        "    | StrOutputParser()\n",
        "    | (lambda x: x.split(\"\\n\"))\n",
        ")"
      ],
      "metadata": {
        "id": "dg--8outY4or"
      },
      "execution_count": null,
      "outputs": []
    },
    {
      "cell_type": "code",
      "source": [
        "from langchain.load import dumps, loads\n",
        "\n",
        "def get_unique_union(documents: list[list]):\n",
        "    \"\"\" Unique union of retrieved docs \"\"\"\n",
        "    # Flatten list of lists, and convert each Document to string\n",
        "    flattened_docs = [dumps(doc) for sublist in documents for doc in sublist]\n",
        "    # Get unique documents\n",
        "    unique_docs = list(set(flattened_docs))\n",
        "    # Return\n",
        "    return [loads(doc) for doc in unique_docs]\n",
        "\n",
        "retriever = loaded_vector_store.as_retriever(\n",
        "    search_type=\"mmr\",\n",
        "    search_kwargs={\"k\": 5, \"fetch_k\": 10}\n",
        ")\n",
        "\n",
        "# Retrieval chain\n",
        "retrieval_chain = generate_queries | retriever.map() | get_unique_union"
      ],
      "metadata": {
        "id": "hXwvV6v3Xuzq"
      },
      "execution_count": null,
      "outputs": []
    },
    {
      "cell_type": "markdown",
      "source": [
        "### Query Analyzer + Retrieval Chain Test\n"
      ],
      "metadata": {
        "id": "wD3RD3SyXuid"
      }
    },
    {
      "cell_type": "code",
      "source": [
        "question = \"성북구에서 할 수 있는 식도락 데이트!\"\n",
        "docs = retrieval_chain.invoke({\"question\":question})\n",
        "for doc in docs:\n",
        "  print(doc)"
      ],
      "metadata": {
        "colab": {
          "base_uri": "https://localhost:8080/"
        },
        "id": "iUAXfppXXubL",
        "outputId": "f3e89cc8-27d9-4b54-ae05-447dddc08647"
      },
      "execution_count": null,
      "outputs": [
        {
          "output_type": "stream",
          "name": "stdout",
          "text": [
            "page_content='성북구 [SEP] 성북동 [SEP] 서울 성북구 동소문동4가 [SEP] 돈암장 [SEP] None [SEP] None [SEP] https://naver.me/G4wR3c1I [SEP] 좋아요 친절해요 굿 맛있어요 좋아요 좋아요 굿 친절해요 굿 굳 [SEP] 대표 키워드 일제시대한옥'\n",
            "page_content='성북구 [SEP] 돈암1동 [SEP] 서울 성북구 북악산로 913 [SEP] 청춘식당 묵은지김치찜&알탕 [SEP] None [SEP] None [SEP] https://naver.me/GB0H2IAZ [SEP]  맛있어요 ^^ 맛있어요 번창하세요 굿 매콤하니 한끼 먹기좋아요 맛은그닥 배달로 먹었어요! 짭조름하고, 살짝 맵네요:)  굿굿 집에서 맛있는걸 먹을수 있어 조아여 [SEP] None'\n",
            "page_content='중구 [SEP] 필동 [SEP] 서울 중구 동호로 287 앰배서더 서울 풀만 호텔 2층 [SEP] 호빈 [SEP] 1스타 - 요리가 훌륭한 레스토랑 미쉐린 가이드 서울 2024 [SEP] None [SEP] https://naver.me/GoBwg6yi [SEP] 남편 생일이라 베이징덕 먹으러 방문했어요. 분위기 좋고 음식도 맛있어요 💕  후덕죽 상무님 울 할부지 계신 곳. 말해모해 참말로. 미디어에 나오는 셰프들 주방에 드갑시다. 대한민국 식음료 업계 진짜.ㅂㄷ⁷ 인생 유린기와 짬뽕이었습니다! 너무 친절하고, 홀 이어도 프라이빗하였습니다! 매일매일 먹고 싶은 맛입니다!! 불도장은 정말 최고예요 플라시보 효과일지 모르지만 먹고나면 몸이 개운합니다 바닷가재 마늘찜은 전 별로였어요...랍스타는 먹고싶다면 랍스타집에 가든지 삼성동 인터컨티넨탈 파르나스로 가든지... 아무튼 불도장은 원조쉐프가 계셔서 그런지 여기가 최고입니다 [SEP] None'\n",
            "page_content='성북구 [SEP] 성북동 [SEP] 서울 성북구 동소문로7길 5 이가주방 [SEP] 이가주방 [SEP] None [SEP] None [SEP] https://naver.me/xM2aR1Pe [SEP] 세번째 방문인데,,, 올때마다 느낍니다. 대체 이 동네 몇 년을 살면서 여기를 왜 몰랐을까  요번엔 대파 닭구이에 지난 번에 사장님이 추천해주신 명랑스컬을 또 마셨습니다  하도 제가 여기 얘기를 톡방에서 해서 그런지 후배도 같이 왔는데, 역시 여기 음식을 좋아하네요  집앞이라 접근성도 좋은데 음식이랑 술이 맛있어버리니 약간 너무 자주 오는듯한 느낌입니다  많은 분들이 오셨음 하지만 제 자리는 남겨주십쇼 최애 술집 중 하나입니다. 혼술하기도 좋고 친구와 함께 하기도 좋은 곳입니다. 멋진 사장님이 해주시는 맛있는 안주랑 집에서 담근 김치가 일품인 곳이에요. 평소에 흔하게 볼 수 없는 술들이 있어 자꾸 생각나는 곳입니다. 간단히 맥주한잔하려고 들렸는데 첨보는 맥주가 생각보다 맛있어서 많이 먹게 되었네요ㅎㅎ 친구들도 맛있었다고 하구요 테라스 자리가 만석이어서 안에서 마셨는데 담에 가면 테라스에서 마시겠습니다 음식에 진심인 사장님이 있고 조용하게 도란도란 술 마시기 너무 좋은 곳입니다:) 완전 요즘 스타일의 숨은 가게 입니다👍 잘먹었습니다 저는 가끔씩 가지만 지인도 조용히 얘기 나눌수 있어서 좋았다고 하네요 시메사바 예약입니다ㅎㅎㅎ [SEP] 소개 안녕하세요. 이가주방 입니다. 남여노소 편안히 즐길 수 있는 공간입니다.  메뉴는 조금씩 달라질 수 있습니다. 그래도 제가 좋아하고 잘하는 것들을 내어드립니다.  이가주방은 신선한 재료만을 고집합니다. 믿고 드셔주셔요. 읽어주셔서 감사합니다. 늘 건강하세요. 편의시설 및 서비스1 무선 인터넷 주차 주차 불가 별도의 주차장은 없으나 동네 특성상 해가저물면 근처에 주차들 하시곤 하십니다. 좌석·공간6 카운터석 바테이블 좌식 테라스 연인석 1인석 결제수단1 제로페이 SNS1 홈페이지 http://nov1028.blog.me/'\n",
            "page_content='성북구 [SEP] 동선동 [SEP] 서울 성북구 보문로30나길 29-1 한옥 [SEP] 카페 스파츠 [SEP] None [SEP] None [SEP] https://m.place.naver.com/share?id=1059905833&tabsPath=%2Fhome&appMode=detail [SEP] 시그니쳐 커피도 맛있고 분위기도 너무 좋아요 인테리어가 특이해서 데이트하기 좋은 장소같아요💗☺️👈🏻 다음에도 방문하려구용 골목에 있어서 찾기 좀 어려울 수도 있어요. 비 오는 날에 다녀온거라 테라스 자리에 못 앉는게 조금 아쉽긴 하는데 내부 분위기도 아늑하고 좋아요! 커피가 맛있고 한옥인데 인테리어가 고즈넉하면서도 독특하니 오래머물기 좋았습니다! 성신여대 정문 근처의 한옥 카페 자주 가는 카페예요!! 오늘은 친구들과 크림케이크 두개, 커피, 하이볼 이렇게 먹었네요 ㅋㅋㅋ 언제나 맛있습니다👍🏻👍🏻 [SEP] 소개 안녕하세요 :) 커피와 디저트가 맛있고 분위기가 좋은 한옥 카페입니다! 인스타그램 계정 -> @cafe_spatz 공지사항은 인스타그램에서도 확인 가능합니다:) *주차불가* 편의시설 및 서비스8 글루텐프리 메뉴 \\ 반려동물 동반 남/녀 화장실 구분 포장 단체 이용 가능 예약 무선 인터넷 대기공간 주차 주차 불가 주차공간이 따로 마련돼있지 않습니다. 주차가 필요하신분들은 근처 유료주차장이나 모두의주차 앱에사 주차이용권 확인하시면 감사하겠습니다. 좌석·공간7 테라스 연인석 좌식 입식 룸 최소 30명 ~ 최대 33명 단체석 최소 6명 ~ 최대 9명 루프탑'\n",
            "page_content='성북구 [SEP] 성북동 [SEP] 서울 성북구 성북로23길 4 [SEP] 쌍다리돼지불백 본점 [SEP] 쌍다리 돼지불백 성북동 본점 넘 유명한 기사식당 [SEP] 별점 4.3 [SEP] https://naver.me/FEJddM9e [SEP] 성북동에서 백숙맛집은 정말 자주 갔었는데 좀 간단하게 먹을곳이 없을까 찾다 들렸어요 돼지불백에 냉면까지 가성비 좋은곳이예요 서울역 들리기전에 가볍게 먹기 좋았어요 점심식사하기에 굳!! 식당앞에 주차할수 있었어요 식당내부는 청결해서 좋았습니다 음식이 빠르게 나오고 회전율이 좋아요 15년이상 다니는곳...그냥 맛있다 굿굿굿굿굿 고기의 퀄리티가 좋은건 아니지만 은은한 양념맛과 불맛으로 중독성이 있습니다. 고기는 성인이 먹기에 턱없이 부족한 양이라 추가주문을 하게됩니다. 특으로 주문도 해보았으나 보통과의 차이를 잘 모르겠어서 항상 고기만 1인분을 추가합니다. 쌈채소와 반찬, 국이 무료로 셀프바에 제공되어 푸짐하게 먹을 수 있습니다. 친절해서 이용하기 좋습니다 성북동 가면 그냥 지나치지 못하는 맛있는 식당!주차 편리하고 음식 빨리 나와요! [SEP] 소개 since1970, 50여년 전통 돼지불백 No.1 쌍다리돼지불백 입니다 :) 편의시설 및 서비스5 단체 이용 가능 포장 무선 인터넷 남/녀 화장실 구분 배달 주차 주차가능 발렛가능 결제수단1 제로페이 SNS2 인스타그램 https://www.instagram.com/ssangdari/ 홈페이지 홈페이지'\n",
            "page_content='성북구 [SEP] 삼선동 [SEP] 서울 성북구 삼선교로16길 54 2층 [SEP] 다바타식당 [SEP] None [SEP] 별점 4.68 [SEP] https://naver.me/FWJ6y4fy [SEP] 식사류는 그날그날 되는 메뉴가 다르더라구요, 음식은 한식에 가까운 일식이고 맛있었어요! 그리고 사장님이 엄청 친절하셔서 이야기도 나누고 즐거운 시간이었습니다! 뭔가 심야식당에 나오는 듯한 느낌..! 기대이상으로 맛있었습니다 다음에 또 방문할게요☺️ 가게 메뉴 하나하나 다 너무 맛있고 사장님이 재밌으세요🤗 매장이 너무 정겹고 예뻐요 심야식당에 나오는 곳 같아요 사장님이 요리하는게 잘 보여서 좋고, 음식도 정말 맛있네요 반찬도 하나하나 다 만드시는 것 같은데 레시피 물어보고 싶었어요 ㅎㅎ 수저나 물컵, 받침대 하나하나 다 사장님 센스가 보였어요 라디오 틀어놓는것도 감성있고 좋았습니다. 데이트하기 좋아요~ 대신 주차장이 없어 그 점은 조금 불편하네요 음식은 정말 맛있고 분위기도 좋았어요! 함박 스테이크 맛있게 먹었습니다! 요즘 같은 고물가 시대에 만원 초반대 가격으로 국,반찬,에피타이저,,샐러드까지!! 구성이 정말 혜자스러워용 그릇이랑 음식 플레이팅도 너무 아기자기하고 예쁩니다 무엇보다 가게 분위기가 너무 정겹고 따뜻해서 계속 방문하게 되는 것 같아요😊😊 [SEP] None'\n",
            "page_content='성북구 [SEP] 보문동 [SEP] 서울 성북구 보문로 129 (보문동2가) [SEP] club des anges [SEP] None [SEP] None [SEP] https://naver.me/IFgKtNrC [SEP] 족발 본연의 맛과 풍미가 넘칩니다. 분위기도 데이트하기에 딱 좋아요. ❤️ 좋아요 [SEP] None'\n",
            "page_content='성북구 [SEP] 길음1동 [SEP] 서울 성북구 도봉로 1 베누스타빌딩 지하1층 [SEP] 베누스타76 [SEP] None [SEP] None [SEP] https://naver.me/GoBP8hAW [SEP] 얼마전 맛있게 먹었었는데 아들이 맛있다해서 또 오자고 ㅎㅎ 재방문해서 이른 저녁 먹이고 갑니다~ 가족끼리 친구둘과 오기 좋네요^^ 처음 와봤는데 음식도 너무 깔끔하고 맛있게 잘 나와요. 자주 올거같아요. 매장도 넓고 쾌적합니다. 자주는 아니고 가끔오는데 너무 맛있어요! 분위기 있고, 음식이 정말 맛있어 보여요. 잘먹을께요 ^^ 학부모 브런치 장소인가보네요 널직해서 좋아요 [SEP] 소개 고급도시락으로 널리 이름을 알렸고 이젠 더 잘하는 박스케이터링과 샌드위치 전문으로 거듭나겠습니다. 기업모임과 가족모임 등 소규모 행사에 적합한 박스케이터링, 간식이나 식사용으로도 손색이 없는 샌드위치세트, 특별하고 소중한 날에 음식으로 화룡점정에 이를 수 있도록 최선을 다하겠습니다. 편의시설 및 서비스2 포장 배달 주차 주차가능 SNS2 블로그 https://blog.naver.com/9897200 인스타그램 인스타그램'\n",
            "page_content='성북구 [SEP] 길음1동 [SEP] 서울 성북구 동소문로 315 [SEP] 일상다완 현대백화점 미아점 [SEP] None [SEP] None [SEP] https://naver.me/FlZxUWOg [SEP] 굿 다양한 차가 있어요 굿 맛있어요 ㅜㄱㅅ 좋아요  멋잇어요 굳 친절해요! [SEP] None'\n",
            "page_content='성북구 [SEP] 삼선동 [SEP] 서울 성북구 삼선교로23길 8 1층 달달커피 [SEP] 달달커피 [SEP] None [SEP] 별점 4.39 [SEP] https://naver.me/5cTd22tI [SEP] 분위기와 맛을 즐기는 아부지덕분에 좋은 장소에서 매번 연휴마다 가족모임 즐겁고 행복하게 마무리하는 달달커피입니다.🥰 번창하세요! 다양하고 맛있는 디저트 종류~ 내부 인테리어가 좋아 모임 장소로 정말 추천해요 인절미 빙수 맛있어요 아빠의 적극추천으로 가족모임 때마다 자주 방문하는 곳. 넓은 자리가 있어서 좋구, 분위기도 따뜻하고 아늑해요. 커피도 음료도 맛있고 커피잔들도 예쁨♡ 특히 크로플 너무너무 맛있었어요😍👍 사장님도 친절하세요♡ 커피 디저트 생맥까지 처음 온 카페 달달커피. 옛날 분위기도 나고 사장님께서 친절하시네요. 우리가족이 사랑하는 성북구 최애 카페. 음료도 디저트도 빙수도 다다 맛있어요.💕 실내에 초록 식물 많아요. 좋아요 안에 들어가니 넓고 한적하고 좋으네요~^^ 빙수도 파니 아이들과 오기 좋을 것 같아요~~♡ [SEP] 소개 미각을 위한 커피와 디저트, 시각적인 즐거움을 위한 독특한 인테리어, 청각을 즐겁게 하는 매혹적인 영상 이미지 등 오감을 위한 특별한 장소 편의시설 및 서비스5 단체 이용 가능 포장 무선 인터넷 예약 장애인 주차구역 주차 주차가능 결제수단2 지역화폐 (카드형) 제로페이 SNS1 블로그 https://blog.naver.com/donnamdaldalcoffee'\n",
            "page_content='성북구 [SEP] 동선동 [SEP] 서울 성북구 동소문로23길 34 [SEP] 셰프의돈까스성북점 [SEP] None [SEP] 별점 4.35 [SEP] https://naver.me/x9JIjEu6 [SEP] 냉모밀세트랑 치킨까스 먹었어용! ஐ╹◡╹ノ 너무 바삭한나머지 입천장 까질뻔 했어욘 그정도로 바삭하단 말입니닷 ㅎㅎ 냉모밀도 맛있었어용 ㅎㅎ 성신여대 번화가에서만 밥먹었었는데 .. 요즘은골목에 숨은 맛집 찾는거 정말 좋아하는데 여기 맛있네 .. 다른데랑 좀달라서 괜찮음 난 왕돈까스 먹었는데 쫄면에 돈까스 추가해서 먹는것도 완전 괜찮을듯 ! 늦은 저녁 혼밥에 병맥 한잔도 좋겠다 ~ 리뷰 쓰면 치즈스틱 or 해쉬브라운 택 1이라고 하심 ㅋㅋ 전부 다 맛있었다 냠냠 가볍게 잘 먹었어요 맛있어요. 그런데 양이 너무 적어졌어요. 맛있어요 잘먹고 갑니다 회사근처라서 포장하기도 좋고 가게에도 테이블 있어서 처음으로 매장에서 먹었어요 돈까스 김치볶음밥 라면 다 맛있어요 좋아요 [SEP] 소개 안녕하세요. 성신여대에 위치한 돈까스 맛집  셰프의 돈까스 입니다^^  셰프의 돈까스에서는 냉동고기를 사용하지 않고 부드러운 생고기를 사용하여  주문 즉시 정성껏 직접 조리하여 드립니다. 천연과일과 야채로 만든 특제소스로 건강과 맛을 동시에 느껴보세요~ 언제나 고객만족을 최우선으로 생각하고 항상 노력하겠습니다. 편의시설 및 서비스2 포장 배달 결제수단1 제로페이 SNS1 모두 http://pickfood8881.modoo.at'\n",
            "page_content='성북구 [SEP] 정릉1동 [SEP] 서울 성북구 서경로 37 [SEP] 하오하오츠 [SEP] 정릉 짜장면으로 유명한 성북구 중국집 [SEP] 별점 4.38 [SEP] https://naver.me/G7KVln4M [SEP] 배달로만 먹다가 맛있길래 직접 방문해봤어요.  앉아있는데 배달주문이 밀려들어오더라구요.  면요리가 가격이 좀 있는편이지만 진짜 맛있어요.  짜장은 옛날짜장의 구수함이 있더라구요.  감동포인트는 저기보이는 저 망고눈꽃빙수가 무려 서비스입니다.  아이들이 넘 신나했어요~  맛있게 잘 먹었습니다~^^ 음식 다 맛있어요👍👍 짬뽕이랑 탕슉 애들이 조아해요 맛있어요 손님이 밥 먹고 있는데 에어컨 끄고 영업 끝났다고 빗자루 들고 홀청소 하고 기본적으로 알바생들 말투가 불친절해서 음식은 맛있지만 기분이 별로 였음. 와이파이도 있고 좋아요 넓어서 단체모임하기 좋아요 [SEP] 소개 안녕하세요.  하오하오츠 입니다.  배달 주문은 @ 전화주문 @ 배달의 민족 @ 요기요 @  부탁드립니다^^  영업시간 11:00 ~ 21:30 (주방마감 20:50)  ※ 재료 소진 시 조기 마감 될 수 있는 점 양해 부탁드립니다. :) 펼쳐보기 위생 정보 세스코 멤버스 2024.08 2025년08월  최근 통합방제 점검월 편의시설 및 서비스6 단체 이용 가능 예약 포장 무선 인터넷 배달 유아의자 주차 주차가능 무료 결제수단2 지역화폐 (모바일형) 제로페이'\n",
            "page_content='성북구 [SEP] 성북동 [SEP] 서울 성북구 성북동 [SEP] 삼청각유하정 [SEP] None [SEP] None [SEP] https://naver.me/GoBd3bj4 [SEP] 풍경과 건물이 멋져요 식사도 훌륭하고 직원들 서빙도 맘에 드는 식사 시간이었네요~ 기분좋은 추억이되는 공간이네요 좋아요 음식이 깔끔하고 맛있어요 . [SEP] None'\n"
          ]
        }
      ]
    },
    {
      "cell_type": "markdown",
      "source": [
        "## Generation"
      ],
      "metadata": {
        "id": "bJ1hv-XIXuTX"
      }
    },
    {
      "cell_type": "code",
      "source": [
        "from typing import Optional\n",
        "\n",
        "from langchain_core.pydantic_v1 import BaseModel, Field\n",
        "\n",
        "class Search(BaseModel):\n",
        "  datingTitle: Optional[str] = Field(None, description=\"Get name of the place\")\n",
        "  datingLoc: Optional[str] = Field(None, description=\"Get location of the place\")\n",
        "  timeTotal: Optional[str] = Field(None, description=\"Generate expected time\")\n",
        "  datingDescription: Optional[str] = Field(None, description=\"Generate description of the place\")\n",
        "  datingImage: Optional[str] = Field(None, description=\"Get url of the location\")"
      ],
      "metadata": {
        "id": "B2orTVtqWwyW"
      },
      "execution_count": null,
      "outputs": []
    },
    {
      "cell_type": "code",
      "source": [
        "from operator import itemgetter\n",
        "from langchain_openai import ChatOpenAI\n",
        "from langchain_core.runnables import RunnablePassthrough\n",
        "question = \"성북구에서 할 수 있는 식도락 데이트!\"\n",
        "# RAG\n",
        "template = \"\"\"\n",
        "- You are a helpful assistant that answers questions about the context below.\n",
        "- You do not make up answers to questions that cannot be found in the context.\n",
        "- If you don't know the answer to a question, just say that you don't know. Don't try to make up an answer.\n",
        "- You will generate a list of activities and please follow the format:\n",
        "[\n",
        "  {{\n",
        "    \"activityTitle\": Get the name of the place,\n",
        "    \"activityLoc\": Get the address of the place,\n",
        "    \"timeTotal\": Generate your expected time about the place or just put 1 hour,\n",
        "    \"activityDescription\": Generate a description of the place based on your understanding,\n",
        "    \"activityImage\": Get url of the place\n",
        "  }},\n",
        "  ...\n",
        "]\n",
        "- Make sure the list contains at least 5 activities\n",
        "- You have to answer in Korean.\n",
        "\n",
        "Answer the following question based on this context:\n",
        "\n",
        "{context}\n",
        "\n",
        "Question: {question}\n",
        "\"\"\"\n",
        "\n",
        "prompt = ChatPromptTemplate.from_template(template)\n",
        "\n",
        "# llm = ChatOpenAI(temperature=0).with_structured_output(Search)\n",
        "llm = ChatOpenAI(temperature=0)\n",
        "\n",
        "final_rag_chain = (\n",
        "    {\"context\": retrieval_chain,\n",
        "     \"question\": itemgetter(\"question\")}\n",
        "    | prompt\n",
        "    | llm\n",
        "    | StrOutputParser()\n",
        ")\n",
        "\n",
        "generated_result = final_rag_chain.invoke({\"question\":question})"
      ],
      "metadata": {
        "id": "vWdUprDcXuHZ"
      },
      "execution_count": null,
      "outputs": []
    },
    {
      "cell_type": "code",
      "source": [
        "import json\n",
        "\n",
        "activities_list = json.loads(generated_result)\n",
        "for activity in activities_list:\n",
        "  print(activity)"
      ],
      "metadata": {
        "colab": {
          "base_uri": "https://localhost:8080/"
        },
        "id": "IDnkfeYsuDui",
        "outputId": "a27fad73-20c1-46e9-f5c5-797b3f5e625a"
      },
      "execution_count": null,
      "outputs": [
        {
          "output_type": "stream",
          "name": "stdout",
          "text": [
            "{'activityTitle': '불타는소금구이', 'activityLoc': '서울 성북구 보문로30길 43-3', 'timeTotal': '1시간', 'activityDescription': '고기와 된장찌개가 맛있는 불타는소금구이. 북적북적한 분위기와 푸짐한 안주로 유명한 맛집입니다.', 'activityImage': 'https://naver.me/x9JcBZ9g'}\n",
            "{'activityTitle': '열린마당', 'activityLoc': '서울 성북구 동소문로2길 27', 'timeTotal': '1시간', 'activityDescription': '한잔하기 좋은 분위기와 가성비 좋은 안주로 소문난 열린마당. 맛있는 안주와 친절한 서비스가 자랑입니다.', 'activityImage': 'https://naver.me/IxD0x0dR'}\n",
            "{'activityTitle': '다바타식당', 'activityLoc': '서울 성북구 삼선교로16길 54 2층', 'timeTotal': '1시간', 'activityDescription': '한식과 일식이 어우러진 맛있는 음식을 즐길 수 있는 다바타식당. 아늑한 분위기와 친절한 사장님으로 소문난 곳입니다.', 'activityImage': 'https://naver.me/FWJ6y4fy'}\n",
            "{'activityTitle': '달달커피', 'activityLoc': '서울 성북구 동소문로 22-1', 'timeTotal': '1시간', 'activityDescription': '미각을 만족시키는 커피와 디저트를 즐길 수 있는 달달커피. 아늑한 분위기와 다양한 디저트로 소문난 카페입니다.', 'activityImage': 'https://naver.me/5cTd22tI'}\n",
            "{'activityTitle': '퐁닭퐁닭 본점', 'activityLoc': '서울 성북구 성북로4길 52 한진한신아파트상가', 'timeTotal': '1시간', 'activityDescription': '매콤하고 고소한 맛으로 유명한 퐁닭퐁닭 본점. 바삭한 맛을 즐길 수 있는 메뉴들이 인기를 끌고 있습니다.', 'activityImage': 'https://naver.me/5mYK3I3s'}\n"
          ]
        }
      ]
    }
  ]
}