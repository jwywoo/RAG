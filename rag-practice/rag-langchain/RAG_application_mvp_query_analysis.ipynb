{
  "nbformat": 4,
  "nbformat_minor": 0,
  "metadata": {
    "colab": {
      "provenance": [],
      "collapsed_sections": [
        "8hkm4MPmkyUo",
        "j-VyzwgAlA0O",
        "dhHHaNSKlUod",
        "vLw1uJqgrdMK"
      ]
    },
    "kernelspec": {
      "name": "python3",
      "display_name": "Python 3"
    },
    "language_info": {
      "name": "python"
    }
  },
  "cells": [
    {
      "cell_type": "markdown",
      "source": [
        "## Colab Imports"
      ],
      "metadata": {
        "id": "8hkm4MPmkyUo"
      }
    },
    {
      "cell_type": "code",
      "execution_count": null,
      "metadata": {
        "colab": {
          "base_uri": "https://localhost:8080/"
        },
        "id": "CKidGxSrkkPs",
        "outputId": "3c77f590-14f0-40df-bfb7-d2c43191f2bc"
      },
      "outputs": [
        {
          "output_type": "stream",
          "name": "stdout",
          "text": [
            "Drive already mounted at /content/drive; to attempt to forcibly remount, call drive.mount(\"/content/drive\", force_remount=True).\n"
          ]
        }
      ],
      "source": [
        "from google.colab import drive\n",
        "from google.colab import userdata\n",
        "drive.mount('/content/drive')"
      ]
    },
    {
      "cell_type": "markdown",
      "source": [
        "## Installation"
      ],
      "metadata": {
        "id": "j-VyzwgAlA0O"
      }
    },
    {
      "cell_type": "code",
      "source": [
        "!pip install -qU langchain-community faiss-cpu langchain-openai"
      ],
      "metadata": {
        "id": "PMQUNIbSlAM0"
      },
      "execution_count": null,
      "outputs": []
    },
    {
      "cell_type": "markdown",
      "source": [
        "## Env Setting"
      ],
      "metadata": {
        "id": "dhHHaNSKlUod"
      }
    },
    {
      "cell_type": "code",
      "source": [
        "import os\n",
        "\n",
        "os.environ['OPENAI_API_KEY'] = userdata.get('openAI')"
      ],
      "metadata": {
        "id": "cZgc_WqklUXv"
      },
      "execution_count": null,
      "outputs": []
    },
    {
      "cell_type": "code",
      "source": [
        "from langchain_openai import OpenAIEmbeddings\n",
        "\n",
        "embeddings = OpenAIEmbeddings(model=\"text-embedding-3-large\")"
      ],
      "metadata": {
        "id": "3z7g5zZ9lkc6"
      },
      "execution_count": null,
      "outputs": []
    },
    {
      "cell_type": "code",
      "source": [
        "# Index Path(Directory to save initialized index)\n",
        "DRIVE_PATH = '/content/drive/MyDrive/RAG_JSON_EMBEDDINGS_INDEX'\n",
        "INDEX_DIR_PATH = os.path.join(DRIVE_PATH, \"INDEX\")\n",
        "HA_INDEX_PATH = os.path.join(INDEX_DIR_PATH, \"HA_INDEX\")\n",
        "if not os.path.exists(INDEX_DIR_PATH):\n",
        "    os.makedirs(INDEX_DIR_PATH)\n",
        "\n",
        "faiss_index_path = os.path.join(HA_INDEX_PATH, \"combined_faiss_index\")\n",
        "\n",
        "print(faiss_index_path)"
      ],
      "metadata": {
        "colab": {
          "base_uri": "https://localhost:8080/"
        },
        "id": "760maDvklqnK",
        "outputId": "cc51393e-61c7-461a-bc96-2dd363765cb9"
      },
      "execution_count": null,
      "outputs": [
        {
          "output_type": "stream",
          "name": "stdout",
          "text": [
            "/content/drive/MyDrive/RAG_JSON_EMBEDDINGS_INDEX/INDEX/HA_INDEX/combined_faiss_index\n"
          ]
        }
      ]
    },
    {
      "cell_type": "markdown",
      "source": [
        "## Index Loading"
      ],
      "metadata": {
        "id": "vLw1uJqgrdMK"
      }
    },
    {
      "cell_type": "code",
      "source": [
        "# Faiss index set\n",
        "import faiss\n",
        "from langchain_community.docstore.in_memory import InMemoryDocstore\n",
        "from langchain_community.vectorstores import FAISS\n",
        "\n",
        "loaded_vector_store = FAISS.load_local(\n",
        "    faiss_index_path, embeddings, allow_dangerous_deserialization=True\n",
        "    )"
      ],
      "metadata": {
        "id": "f31mkIS4mMCP"
      },
      "execution_count": null,
      "outputs": []
    },
    {
      "cell_type": "markdown",
      "source": [
        "## Query Analyzer\n",
        "Creating a chain of belows to get better results\n",
        "- Query Schema\n",
        "- Prompt\n",
        "- Structured LLM"
      ],
      "metadata": {
        "id": "MDI9NaLTrMBy"
      }
    },
    {
      "cell_type": "markdown",
      "source": [
        "### Prompt"
      ],
      "metadata": {
        "id": "NBfhrH13q90s"
      }
    },
    {
      "cell_type": "code",
      "source": [
        "from langchain_core.prompts import ChatPromptTemplate\n",
        "from langchain_core.runnables import RunnablePassthrough\n",
        "from langchain_openai import ChatOpenAI\n",
        "\n",
        "system = \"\"\"\n",
        "    You are an expert planning a date for loved one, family and friends.\n",
        "    Your task is retrieving relevant data to generate a date plan.\n",
        "    You have access to a database of locations for dating in Seoul.\n",
        "\n",
        "    Each row in the table represents a location and its featrues.\n",
        "    Features are separated by [SEP].\n",
        "    If a row have 'None' in the feature, it means that the row doens't have that feature.\n",
        "    Every row is in Korean while column names are in English.\n",
        "\n",
        "    Given a question, return a list of database queries that are relevant to the question.\n",
        "\"\"\"\n",
        "prompt = ChatPromptTemplate.from_messages(\n",
        "    [\n",
        "        (\"system\", system),\n",
        "        (\"human\", \"{question}\"),\n",
        "    ]\n",
        ")"
      ],
      "metadata": {
        "id": "P71YdsiprHSI"
      },
      "execution_count": null,
      "outputs": []
    },
    {
      "cell_type": "markdown",
      "source": [
        "### Structure LLM"
      ],
      "metadata": {
        "id": "qKRG7H1hrG5J"
      }
    },
    {
      "cell_type": "markdown",
      "source": [
        "#### Query Schema for structured LLM"
      ],
      "metadata": {
        "id": "8UgPzNObrhi9"
      }
    },
    {
      "cell_type": "code",
      "source": [
        "from typing import Optional\n",
        "\n",
        "from langchain_core.pydantic_v1 import BaseModel, Field\n",
        "\n",
        "class Search(BaseModel):\n",
        "  datingTitle: Optional[str] = Field(None, description=\"Main title or event name\")\n",
        "  datingTime: Optional[str] = Field(None, description=\"Event date and time\")\n",
        "  datingLoc: Optional[str] = Field(None, description=\"Event location\")\n",
        "  timeTotal: Optional[str] = Field(None, description=\"Total duration of the event\")\n",
        "  datingTheme: Optional[str] = Field(None, description=\"Event theme or type\")"
      ],
      "metadata": {
        "id": "HVgQW74rriLF"
      },
      "execution_count": null,
      "outputs": []
    },
    {
      "cell_type": "markdown",
      "source": [
        "#### Structured LLM init"
      ],
      "metadata": {
        "id": "aS3gki28PkKP"
      }
    },
    {
      "cell_type": "code",
      "source": [
        "llm = ChatOpenAI(model=\"gpt-3.5-turbo-0125\", temperature=0)\n",
        "structured_llm = llm.with_structured_output(Search)"
      ],
      "metadata": {
        "id": "VRHI5HvJrGwB"
      },
      "execution_count": null,
      "outputs": []
    },
    {
      "cell_type": "markdown",
      "source": [
        "### Query Analyzer Chain Init"
      ],
      "metadata": {
        "id": "jRWin75qsVrh"
      }
    },
    {
      "cell_type": "code",
      "source": [
        "query_analyzer = {\"question\": RunnablePassthrough()} | prompt | structured_llm"
      ],
      "metadata": {
        "id": "WzEIdB0TsZt2"
      },
      "execution_count": null,
      "outputs": []
    },
    {
      "cell_type": "markdown",
      "source": [
        "### Query Analyzer Test"
      ],
      "metadata": {
        "id": "S8lBVifycGZN"
      }
    },
    {
      "cell_type": "code",
      "source": [
        "query_analyzer.invoke(\"성북구 식도락 여행!\")"
      ],
      "metadata": {
        "colab": {
          "base_uri": "https://localhost:8080/"
        },
        "id": "fNFioxx6cJMi",
        "outputId": "64870cdc-e46b-4a8e-8da4-751ea8d73fb6"
      },
      "execution_count": null,
      "outputs": [
        {
          "output_type": "execute_result",
          "data": {
            "text/plain": [
              "Search(datingTitle=None, datingTime=None, datingLoc='성북구', timeTotal=None, datingTheme=None)"
            ]
          },
          "metadata": {},
          "execution_count": 34
        }
      ]
    },
    {
      "cell_type": "markdown",
      "source": [
        "### Retrieval Chain"
      ],
      "metadata": {
        "id": "gprNnUo7tUy3"
      }
    },
    {
      "cell_type": "code",
      "source": [
        "# results = vector_store.similarity_search(query=\"thud\",k=1,filter={\"bar\": \"baz\"})\n",
        "# for doc in results:\n",
        "#     print(f\"* {doc.page_content} [{doc.metadata}]\")\n",
        "\n",
        "from typing import List\n",
        "from langchain_core.documents import Document\n",
        "def retrieval(search: Search) -> List[Document]:\n",
        "  query = f\"\"\"\n",
        "    {search.datingTitle}\n",
        "    {search.datingTime}\n",
        "    {search.datingLoc}\n",
        "    {search.timeTotal}\n",
        "    {search.datingTheme}\n",
        "  \"\"\"\n",
        "  return loaded_vector_store.similarity_search(query)"
      ],
      "metadata": {
        "colab": {
          "base_uri": "https://localhost:8080/",
          "height": 269
        },
        "id": "uR-2c3pJgGMV",
        "outputId": "e42d936a-37b4-4208-ba94-d03dcfa74333",
        "collapsed": true
      },
      "execution_count": null,
      "outputs": [
        {
          "output_type": "error",
          "ename": "NameError",
          "evalue": "name 'vector_store' is not defined",
          "traceback": [
            "\u001b[0;31m---------------------------------------------------------------------------\u001b[0m",
            "\u001b[0;31mNameError\u001b[0m                                 Traceback (most recent call last)",
            "\u001b[0;32m<ipython-input-44-10571f0090b3>\u001b[0m in \u001b[0;36m<cell line: 1>\u001b[0;34m()\u001b[0m\n\u001b[0;32m----> 1\u001b[0;31m \u001b[0mresults\u001b[0m \u001b[0;34m=\u001b[0m \u001b[0mvector_store\u001b[0m\u001b[0;34m.\u001b[0m\u001b[0msimilarity_search\u001b[0m\u001b[0;34m(\u001b[0m\u001b[0mquery\u001b[0m\u001b[0;34m=\u001b[0m\u001b[0;34m\"thud\"\u001b[0m\u001b[0;34m,\u001b[0m\u001b[0mk\u001b[0m\u001b[0;34m=\u001b[0m\u001b[0;36m1\u001b[0m\u001b[0;34m,\u001b[0m\u001b[0mfilter\u001b[0m\u001b[0;34m=\u001b[0m\u001b[0;34m{\u001b[0m\u001b[0;34m\"bar\"\u001b[0m\u001b[0;34m:\u001b[0m \u001b[0;34m\"baz\"\u001b[0m\u001b[0;34m}\u001b[0m\u001b[0;34m)\u001b[0m\u001b[0;34m\u001b[0m\u001b[0;34m\u001b[0m\u001b[0m\n\u001b[0m\u001b[1;32m      2\u001b[0m \u001b[0;32mfor\u001b[0m \u001b[0mdoc\u001b[0m \u001b[0;32min\u001b[0m \u001b[0mresults\u001b[0m\u001b[0;34m:\u001b[0m\u001b[0;34m\u001b[0m\u001b[0;34m\u001b[0m\u001b[0m\n\u001b[1;32m      3\u001b[0m     \u001b[0mprint\u001b[0m\u001b[0;34m(\u001b[0m\u001b[0;34mf\"* {doc.page_content} [{doc.metadata}]\"\u001b[0m\u001b[0;34m)\u001b[0m\u001b[0;34m\u001b[0m\u001b[0;34m\u001b[0m\u001b[0m\n\u001b[1;32m      4\u001b[0m \u001b[0;34m\u001b[0m\u001b[0m\n\u001b[1;32m      5\u001b[0m \u001b[0;32mfrom\u001b[0m \u001b[0mtyping\u001b[0m \u001b[0;32mimport\u001b[0m \u001b[0mList\u001b[0m\u001b[0;34m\u001b[0m\u001b[0;34m\u001b[0m\u001b[0m\n",
            "\u001b[0;31mNameError\u001b[0m: name 'vector_store' is not defined"
          ]
        }
      ]
    },
    {
      "cell_type": "code",
      "source": [
        "retreival_chain = query_analyzer | retrieval"
      ],
      "metadata": {
        "id": "ecw-5tubtnWw"
      },
      "execution_count": null,
      "outputs": []
    },
    {
      "cell_type": "markdown",
      "source": [
        "### Test: Retreieval with Qeury Analysis"
      ],
      "metadata": {
        "id": "4vVE9Ns9tbRo"
      }
    },
    {
      "cell_type": "code",
      "source": [
        "result = retreival_chain.invoke(\"성북구 식도락 여행!\")"
      ],
      "metadata": {
        "id": "YenOyv_ytnxH"
      },
      "execution_count": null,
      "outputs": []
    },
    {
      "cell_type": "code",
      "source": [
        "for row in result:\n",
        "  print(row.page_content)"
      ],
      "metadata": {
        "colab": {
          "base_uri": "https://localhost:8080/"
        },
        "id": "UZzmP5sWg6Fj",
        "outputId": "8cf0176c-534e-4be6-f736-658d9f9666b2"
      },
      "execution_count": null,
      "outputs": [
        {
          "output_type": "stream",
          "name": "stdout",
          "text": [
            "성북구 [SEP] 성북동 [SEP] 서울 성북구 성북로23길 81 [SEP] 북정마을팔각정 [SEP] None [SEP] None [SEP] https://naver.me/5hgoVGNH [SEP] 좋아요 [SEP] None\n",
            "성북구 [SEP] 삼선동 [SEP] 서울 성북구 삼선교로 22 1층 [SEP] 삼선 [SEP] None [SEP] None [SEP] https://naver.me/F9p5GpfU [SEP] None [SEP] None\n",
            "성북구 [SEP] 삼선동 [SEP] 서울 성북구 삼선교로2길 11 [SEP] 새공간 [SEP] None [SEP] None [SEP] https://naver.me/xyUDWA9W [SEP] None [SEP] None\n",
            "성북구 [SEP] 동선동 [SEP] 서울 성북구 흥천사길 49-23 [SEP] 적조사 [SEP] None [SEP] None [SEP] https://naver.me/F7CPNKxa [SEP] None [SEP] None\n"
          ]
        }
      ]
    },
    {
      "cell_type": "code",
      "source": [
        "print(type(result[0]))"
      ],
      "metadata": {
        "colab": {
          "base_uri": "https://localhost:8080/"
        },
        "id": "kGY-g2dKo2Q3",
        "outputId": "51241033-2411-4fa1-ebd2-c21fa2c5b76c"
      },
      "execution_count": null,
      "outputs": [
        {
          "output_type": "stream",
          "name": "stdout",
          "text": [
            "<class 'langchain_core.documents.base.Document'>\n"
          ]
        }
      ]
    }
  ]
}