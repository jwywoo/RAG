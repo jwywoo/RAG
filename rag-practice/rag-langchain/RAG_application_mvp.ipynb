{
  "nbformat": 4,
  "nbformat_minor": 0,
  "metadata": {
    "colab": {
      "provenance": []
    },
    "kernelspec": {
      "name": "python3",
      "display_name": "Python 3"
    },
    "language_info": {
      "name": "python"
    }
  },
  "cells": [
    {
      "cell_type": "markdown",
      "source": [
        "# Colab Imports"
      ],
      "metadata": {
        "id": "8hkm4MPmkyUo"
      }
    },
    {
      "cell_type": "code",
      "execution_count": 1,
      "metadata": {
        "colab": {
          "base_uri": "https://localhost:8080/"
        },
        "id": "CKidGxSrkkPs",
        "outputId": "8aab6769-17d9-4109-b1fe-d6f5f71e9e68"
      },
      "outputs": [
        {
          "output_type": "stream",
          "name": "stdout",
          "text": [
            "Mounted at /content/drive\n"
          ]
        }
      ],
      "source": [
        "from google.colab import drive\n",
        "from google.colab import userdata\n",
        "drive.mount('/content/drive')"
      ]
    },
    {
      "cell_type": "markdown",
      "source": [
        "## Installation"
      ],
      "metadata": {
        "id": "j-VyzwgAlA0O"
      }
    },
    {
      "cell_type": "code",
      "source": [
        "!pip install -qU langchain-community faiss-cpu langchain-openai"
      ],
      "metadata": {
        "id": "PMQUNIbSlAM0"
      },
      "execution_count": null,
      "outputs": []
    },
    {
      "cell_type": "markdown",
      "source": [
        "## Env Setting"
      ],
      "metadata": {
        "id": "dhHHaNSKlUod"
      }
    },
    {
      "cell_type": "code",
      "source": [
        "import os\n",
        "\n",
        "os.environ['OPENAI_API_KEY'] = userdata.get('openAI')"
      ],
      "metadata": {
        "id": "cZgc_WqklUXv"
      },
      "execution_count": 3,
      "outputs": []
    },
    {
      "cell_type": "code",
      "source": [
        "from langchain_openai import OpenAIEmbeddings\n",
        "\n",
        "embeddings = OpenAIEmbeddings(model=\"text-embedding-3-large\")"
      ],
      "metadata": {
        "id": "3z7g5zZ9lkc6"
      },
      "execution_count": 4,
      "outputs": []
    },
    {
      "cell_type": "code",
      "source": [
        "# Index Path(Directory to save initialized index)\n",
        "DRIVE_PATH = '/content/drive/MyDrive/RAG_JSON_EMBEDDINGS_INDEX'\n",
        "INDEX_DIR_PATH = os.path.join(DRIVE_PATH, \"INDEX\")\n",
        "HA_INDEX_PATH = os.path.join(INDEX_DIR_PATH, \"HA_INDEX\")\n",
        "if not os.path.exists(INDEX_DIR_PATH):\n",
        "    os.makedirs(INDEX_DIR_PATH)\n",
        "\n",
        "faiss_index_path = os.path.join(HA_INDEX_PATH, \"combined_faiss_index\")\n",
        "\n",
        "print(faiss_index_path)"
      ],
      "metadata": {
        "colab": {
          "base_uri": "https://localhost:8080/"
        },
        "id": "760maDvklqnK",
        "outputId": "5f8e5c6a-b4db-4711-ae49-ab251e3d520b"
      },
      "execution_count": 5,
      "outputs": [
        {
          "output_type": "stream",
          "name": "stdout",
          "text": [
            "/content/drive/MyDrive/RAG_JSON_EMBEDDINGS_INDEX/INDEX/HA_INDEX/combined_faiss_index\n"
          ]
        }
      ]
    },
    {
      "cell_type": "markdown",
      "source": [
        "## Index Loading"
      ],
      "metadata": {
        "id": "vLw1uJqgrdMK"
      }
    },
    {
      "cell_type": "code",
      "source": [
        "# Faiss index set\n",
        "import faiss\n",
        "from langchain_community.docstore.in_memory import InMemoryDocstore\n",
        "from langchain_community.vectorstores import FAISS\n",
        "\n",
        "loaded_vector_store = FAISS.load_local(\n",
        "    faiss_index_path, embeddings, allow_dangerous_deserialization=True\n",
        "    )\n",
        "faiss_retriever = loaded_vector_store.as_retriever(search_type=\"mmr\", search_kwargs={\"k\": 5})"
      ],
      "metadata": {
        "id": "f31mkIS4mMCP"
      },
      "execution_count": 7,
      "outputs": []
    },
    {
      "cell_type": "markdown",
      "source": [
        "### Test"
      ],
      "metadata": {
        "id": "OPTeCUzirgKy"
      }
    },
    {
      "cell_type": "code",
      "source": [
        "results = faiss_retriever.invoke(\"성북구 고기 맛집\")"
      ],
      "metadata": {
        "id": "oDcIe03pmtBK"
      },
      "execution_count": 11,
      "outputs": []
    },
    {
      "cell_type": "code",
      "source": [
        "for row in results:\n",
        "  print(row.page_content)"
      ],
      "metadata": {
        "colab": {
          "base_uri": "https://localhost:8080/"
        },
        "id": "SwyB0bN_m5vO",
        "outputId": "af480d75-b679-4a2e-ba01-6f3a3e5dbadf"
      },
      "execution_count": 14,
      "outputs": [
        {
          "output_type": "stream",
          "name": "stdout",
          "text": [
            "성북구 [SEP] 삼선동 [SEP] 서울 성북구 동소문로6길 3-4 [SEP] 맛있으면 돼지 [SEP] None [SEP] 별점 4.49 [SEP] https://naver.me/FIgYRlhY [SEP] 벼르다가 다녀왔네요~ 친절하십니다~ 고기가너무맛있어요 기본나오는 콩나물국은 얼큰해서 소주한잔하기 너무좋아요 친절하신 사장님두분😁 추천받아 간 집이었는데 고기 맛도 좋고 사장님께서도 친절하셨어요 . 찍어먹는 소금 , 색도 예쁘고 눈으로도 잘 먹었어요 🎶 후회가 없는 고기집 맛나고 좋아요 이근처에 맛있는 삼겹살집이 없어서 늘 아쉬웠는데 드디어 찾았네요..매장이 엄청 깔끔하고 고기가 진짜 맛있어요.. 깔끔하고 담백한 고깃집입니다. 와보시면 깔끔하고 담백하다는말이 무슨뜻인지 알거에요 ㅎㅎ [SEP] 소개 '맛돼지'는 100%국내산 생고기만을 취급하며 고기를 두툼하게 썰어 육즙을 최대한 느끼실 수 있으며 질 좋은 숯을 사용하여 고기의 풍미를 살렸으며 함초소금, 생와사비, 갈치속젓과 더불어 허브솔트를 곁들여 취향에 따라 다양한 맛을 즐기실 수 있습니다. 편의시설 및 서비스3 예약 단체 이용 가능 무선 인터넷 결제수단1 제로페이 SNS1 블로그 https://blog.naver.com/cadfor\n",
            "성북구 [SEP] 정릉1동 [SEP] 서울 성북구 솔샘로6길 28-15 1층 [SEP] 전여친전남친 [SEP] None [SEP] None [SEP] https://naver.me/54klqleK [SEP] 가격도 좋고 양도 많고 맛있네요. 비 오는 날이면 자주 올 것 같아요. 친절해요 오늘은 3명이서 와서 고기전에 부찌 두개다 시켰어요ㅋㅋ키키 셋이서 배터지게 먹었슴당😆 화요일날 방문했는데도 사람이 꽉 차있었어요! 역시 맛있고 화장실도 깨끗하고 최고👍🏻 굴전 푸짐하고 맛있어요. 부추하고 싸먹으니 더 맛있네요. 기분좋게 먹고 갑니다. 전 맛있어요 [SEP] 소개 맛있는 전, 찌개 파는 우리동네맛집!! 편의시설 및 서비스2 포장 예약 SNS1 홈페이지 https://www.makeus.net/51127\n",
            "성북구 [SEP] 돈암1동 [SEP] 서울 성북구 북악산로 913 [SEP] 씨앤피 푸드 성산직영점 [SEP] None [SEP] None [SEP] https://naver.me/FJ6WQVlk [SEP] 진짜맛있어요 고기 기름좋은거 쓰는듯해요 맛있어요~~강추 [SEP] None\n",
            "성북구 [SEP] 보문동 [SEP] 서울 성북구 보문로13나길 4 [SEP] 뽀빠이생고기 [SEP] None [SEP] 별점 4.36 [SEP] https://naver.me/54V4JgDL [SEP] 좋아요 좋아요 좋아요 좋아요 남자사장님이 주문즉시 고기를 초벌해주세요 여자사장님은 음식솜씨가 좋아서 파절이무침을 그때그때 해달라고하면 무쳐서 주세요 친절하구 고기가 맛있네요 위치도 좋고 자주 갈듯 좋아요 좋아요 좋아요 음식이 맛있어요. 굿 [SEP] 결제수단1 제로페이\n",
            "성북구 [SEP] 장위1동 [SEP] 서울 성북구 화랑로19가길 16-18 소문난순대국 (장위시장안) [SEP] 소문난순대국 [SEP] None [SEP] 별점 4.56 [SEP] https://naver.me/51Ys8dqa [SEP] 밋있어요 고기 종류가 다양해서 좋고 국물도 맛있어요 배불러요 순대국 진하고 맛있어요. 맛나요 맜있어요 맛있어요 좋아요 ㆍ 맛잇어요 [SEP] 편의시설 및 서비스4 포장 배달 예약 무선 인터넷 결제수단4 지역화폐 (지류형) 지역화폐 (카드형) 지역화폐 (모바일형) 제로페이\n"
          ]
        }
      ]
    },
    {
      "cell_type": "markdown",
      "source": [
        "## RAG\n",
        "- MVP\n",
        "  - llm: `gpt-3.5-turbo`\n",
        "  - chain: `RetrievalQA`\n",
        "  - Index: `FAISS`"
      ],
      "metadata": {
        "id": "DEJnowC5riPG"
      }
    },
    {
      "cell_type": "code",
      "source": [
        "from langchain_openai import ChatOpenAI\n",
        "\n",
        "llm = ChatOpenAI(model_name=\"gpt-3.5-turbo\")"
      ],
      "metadata": {
        "id": "OLgnFuotqJGv"
      },
      "execution_count": 20,
      "outputs": []
    },
    {
      "cell_type": "code",
      "source": [
        "from langchain.chains import RetrievalQA\n",
        "\n",
        "qa_chain = RetrievalQA.from_chain_type(\n",
        "    llm,\n",
        "    retriever=faiss_retriever\n",
        ")"
      ],
      "metadata": {
        "id": "yWOk2TXEqq5b"
      },
      "execution_count": 21,
      "outputs": []
    },
    {
      "cell_type": "code",
      "source": [
        "generated_plan = qa_chain.invoke(\"성북구에서 할 수 있는 식도락 여행 코스 짜줘\")"
      ],
      "metadata": {
        "id": "vj0f1q2iq4om"
      },
      "execution_count": 23,
      "outputs": []
    },
    {
      "cell_type": "code",
      "source": [
        "print(generated_plan['result'])"
      ],
      "metadata": {
        "colab": {
          "base_uri": "https://localhost:8080/"
        },
        "id": "lTgQT-oAtfXX",
        "outputId": "7e23ce84-e32d-4469-ac11-4a3f74d14949"
      },
      "execution_count": 27,
      "outputs": [
        {
          "output_type": "stream",
          "name": "stdout",
          "text": [
            "저는 식도락 여행 코스를 짜는 데 도움을 줄 수 있습니다. 성북구에서 할 수 있는 식도락 여행 코스로는 다음과 같은 장소들을 추천할 수 있습니다:\n",
            "\n",
            "1. 열린마당\n",
            "   - 위치: 서울 성북구 삼선동 동소문로2길 27\n",
            "   - 메뉴: 안주가 푸짐하고 맛있는 맛집으로 소개되어 있습니다.\n",
            "   - 특이사항: 가성비가 좋아서 자주 찾는 곳이라고 합니다.\n",
            "\n",
            "2. 동망봉 금문장 중국집\n",
            "   - 위치: 서울 성북구 보문동 보문동6가 209-280\n",
            "   - 메뉴: 중국집으로 유명한 곳입니다.\n",
            "   - 특이사항: 동망봉을 넘어 숭인근린동까지의 코스에 위치해 있습니다.\n",
            "\n",
            "3. 성곽마을 여행자센터\n",
            "   - 위치: 서울 성북구 삼선동 삼선교로4길 89\n",
            "   - 특이사항: 성곽투어를 할 때 들르기 좋은 카페로 소개되어 있습니다.\n",
            "\n",
            "4. 옛고을장충왕족발\n",
            "   - 위치: 서울 성북구 장위1동 월계로36길 27 꿈의숲대명루첸아파트\n",
            "   - 메뉴: 가마솥조림 기법으로 만든 쫄깃한 족발과 부드러운 보쌈이 인기 있는 곳입니다.\n",
            "\n",
            "5. 플랜비\n",
            "   - 위치: 서울 성북구 보문동 고려대로1길 25 1층\n",
            "   - 특이사항: 맥주 안주로 감튀 갈릭이 맛있다고 소문난 카페입니다.\n",
            "\n",
            "이러한 장소들을 방문하면 성북구에서 다채로운 식도락 여행을 즐길 수 있을 것입니다.\n"
          ]
        }
      ]
    }
  ]
}