{
  "nbformat": 4,
  "nbformat_minor": 0,
  "metadata": {
    "colab": {
      "provenance": []
    },
    "kernelspec": {
      "name": "python3",
      "display_name": "Python 3"
    },
    "language_info": {
      "name": "python"
    }
  },
  "cells": [
    {
      "cell_type": "markdown",
      "source": [
        "## Colab Imports"
      ],
      "metadata": {
        "id": "qLylmG_WadNN"
      }
    },
    {
      "cell_type": "code",
      "execution_count": null,
      "metadata": {
        "id": "ljq71VZuaTte"
      },
      "outputs": [],
      "source": [
        "from google.colab import drive\n",
        "from google.colab import userdata\n",
        "drive.mount('/content/drive')"
      ]
    },
    {
      "cell_type": "markdown",
      "source": [
        "## Installation\n",
        "- FAISS\n",
        "- Pinecone"
      ],
      "metadata": {
        "id": "PRpo6yJxasNC"
      }
    },
    {
      "cell_type": "code",
      "source": [
        "# FAISS\n",
        "!pip install -qU langchain-community faiss-cpu langchain-openai"
      ],
      "metadata": {
        "id": "jOQFKNk7ayiw"
      },
      "execution_count": null,
      "outputs": []
    },
    {
      "cell_type": "code",
      "source": [
        "# Pinecone\n",
        "!pip install langchain langchain-core langchain-community langchain-openai langchain-pinecone"
      ],
      "metadata": {
        "id": "HjUFEgRca2pO"
      },
      "execution_count": null,
      "outputs": []
    },
    {
      "cell_type": "markdown",
      "source": [
        "## Documents Preparation\n",
        "- Same for both FAISS and Pinecone\n",
        "  - Except `uuids` generation"
      ],
      "metadata": {
        "id": "YqedLHkibBlK"
      }
    },
    {
      "cell_type": "code",
      "source": [
        "import os\n",
        "import json\n",
        "\n",
        "JSON_DIR_PATH = '/content/drive/MyDrive/RAG_JSON_EMBEDDINGS_INDEX'\n",
        "HA_RAG_DATA_PATH = os.path.join(JSON_DIR_PATH, \"JSON/HA_RAG_DATA\")\n",
        "if not os.path.exists(HA_RAG_DATA_PATH):\n",
        "    os.makedirs(HA_RAG_DATA_PATH)\n",
        "\n",
        "json_path = os.path.join(HA_RAG_DATA_PATH, \"combined_common.json\")\n",
        "\n",
        "with open(os.path.join(HA_RAG_DATA_PATH, json_path), \"r\") as f:\n",
        "        data = json.load(f)"
      ],
      "metadata": {
        "id": "WzCmhzzbbBSe"
      },
      "execution_count": null,
      "outputs": []
    },
    {
      "cell_type": "code",
      "source": [
        "documents = []\n",
        "\n",
        "for row in data:\n",
        "  text = f\"{row['ad_gu']} [SEP] {row['ad_dong']} [SEP] {row['address']} [SEP] {row['location']} [SEP] \" \\\n",
        "               f\"{row['description']} [SEP] {row['rating']} [SEP] {row['share_link']} [SEP] \" \\\n",
        "               f\"{' '.join(row['reviews'])} [SEP] {row['info']}\"\n",
        "  clean_text = text.replace(\"\\n\", \" \")\n",
        "  documents.append(Document(page_content=clean_text))\n",
        "\n",
        "# Only for Faiss -> comment it out for Pinecone\n",
        "uuids = [str(uuid4()) for _ in range(len(documents))]"
      ],
      "metadata": {
        "id": "jl4mVQBwbL9w"
      },
      "execution_count": null,
      "outputs": []
    },
    {
      "cell_type": "markdown",
      "source": [
        "## Index Initialization and Saving\n",
        "- FAISS\n",
        "- Pinecone"
      ],
      "metadata": {
        "id": "hrgC1uAibqmF"
      }
    },
    {
      "cell_type": "code",
      "source": [
        "# Embeddings for both FAISS and Pinecone\n",
        "from langchain_openai import OpenAIEmbeddings\n",
        "\n",
        "os.environ[\"OPENAI_API_KEY\"] = userdata.get('openAI')\n",
        "\n",
        "embeddings = OpenAIEmbeddings(model=\"text-embedding-3-large\")"
      ],
      "metadata": {
        "id": "GmyE3v99c_we"
      },
      "execution_count": null,
      "outputs": []
    },
    {
      "cell_type": "markdown",
      "source": [
        "### FAISS Index Initilization and Saving"
      ],
      "metadata": {
        "id": "vBlcjvGhb6SR"
      }
    },
    {
      "cell_type": "code",
      "source": [
        "# Index Path(Directory to save initialized index)\n",
        "INDEX_DIR_PATH = os.path.join(DRIVE_PATH, \"INDEX\")\n",
        "HA_INDEX_PATH = os.path.join(INDEX_DIR_PATH, \"HA_INDEX\")\n",
        "if not os.path.exists(INDEX_DIR_PATH):\n",
        "    os.makedirs(INDEX_DIR_PATH)\n",
        "\n",
        "faiss_index_path = os.path.join(HA_INDEX_PATH, \"combined_faiss_index\")"
      ],
      "metadata": {
        "id": "CeCfpspFcSIQ"
      },
      "execution_count": null,
      "outputs": []
    },
    {
      "cell_type": "code",
      "source": [
        "# FAISS init\n",
        "import faiss\n",
        "from langchain_community.docstore.in_memory import InMemoryDocstore\n",
        "from langchain_community.vectorstores import FAISS\n",
        "\n",
        "index_cpu = faiss.IndexFlatL2(len(embeddings.embed_query(documents[0].page_content)))\n",
        "vector_store = FAISS(\n",
        "    embedding_function=embeddings,\n",
        "    index=index_cpu,\n",
        "    docstore=InMemoryDocstore(),\n",
        "    index_to_docstore_id={},\n",
        ")"
      ],
      "metadata": {
        "id": "PZGqbe__bpew"
      },
      "execution_count": null,
      "outputs": []
    },
    {
      "cell_type": "code",
      "source": [
        "# Add documents to faiss\n",
        "vector_store.add_documents(documents=documents, ids=uuids)\n",
        "vector_store.save_local(faiss_index_path)"
      ],
      "metadata": {
        "id": "tqVzd0ZqcNYo"
      },
      "execution_count": null,
      "outputs": []
    },
    {
      "cell_type": "code",
      "source": [
        "# Testing\n",
        "retriever = vector_store.as_retriever(saerch_type=\"mmr\", search_kwargs={\"k\": 5})\n",
        "retriever.invoke(\"성북구에서 맞선\")"
      ],
      "metadata": {
        "id": "iSIuZa8Ecn6c"
      },
      "execution_count": null,
      "outputs": []
    },
    {
      "cell_type": "markdown",
      "source": [
        "[Document(page_content='성북구 [SEP] 삼선동 [SEP] 서울 성북구 삼선교로10길 14 [SEP] 우리게임장2 [SEP] None [SEP] None [SEP] https://naver.me/GVAlH8bX [SEP] None [SEP] None'),\n",
        " Document(page_content='성북구 [SEP] 삼선동 [SEP] 서울 성북구 동소문로6길 22 [SEP] 기적을 만나는 방 [SEP] None [SEP] None [SEP] https://naver.me/GJTvCWfF [SEP]  [SEP] None'),\n",
        " Document(page_content='성북구 [SEP] 종암동 [SEP] 서울 성북구 종암동 2-1 [SEP] 우연찻집 [SEP] None [SEP] None [SEP] https://naver.me/xJia0I8a [SEP]  [SEP] None'),\n",
        " Document(page_content='성북구 [SEP] 성북동 [SEP] 서울 성북구 성북로23길 81 [SEP] 북정마을팔각정 [SEP] None [SEP] None [SEP] https://naver.me/5hgoVGNH [SEP] 좋아요 [SEP] None'),\n",
        " Document(page_content='성북구 [SEP] 장위1동 [SEP] 서울 성북구 장월로8가길 13 [SEP] 작은공간 [SEP] None [SEP] None [SEP] https://naver.me/x4FioYKA [SEP] None [SEP] None')]"
      ],
      "metadata": {
        "id": "SCfuLPuPcsOx"
      }
    },
    {
      "cell_type": "markdown",
      "source": [
        "### Pinecone Index Initilization"
      ],
      "metadata": {
        "id": "j5TgQZbwb-ip"
      }
    },
    {
      "cell_type": "code",
      "source": [
        "# Pinecone Setting\n",
        "from pinecone import Pinecone\n",
        "from langchain_pinecone import PineconeVectorStore\n",
        "\n",
        "os.environ[\"PINECONE_API_KEY\"] = userdata.get('pinecone-KEY')\n",
        "pinecone_api_key = os.environ.get(\"PINECONE_API_KEY\")\n",
        "\n",
        "index_name = 'ha-rag-index-test'\n",
        "pinecone_object = Pinecone(api_key=pinecone_api_key)"
      ],
      "metadata": {
        "id": "_WhALWrMc1eL"
      },
      "execution_count": null,
      "outputs": []
    },
    {
      "cell_type": "code",
      "source": [
        "# Saving & Embedding Documents to Pinecone\n",
        "database = PineconeVectorStore.from_documents(\n",
        "    documents,\n",
        "    embeddings,\n",
        "    index_name=index_name\n",
        ")"
      ],
      "metadata": {
        "id": "_6ckQ8xEdOqF"
      },
      "execution_count": null,
      "outputs": []
    }
  ]
}