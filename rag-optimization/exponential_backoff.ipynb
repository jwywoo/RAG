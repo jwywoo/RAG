{
  "nbformat": 4,
  "nbformat_minor": 0,
  "metadata": {
    "colab": {
      "provenance": []
    },
    "kernelspec": {
      "name": "python3",
      "display_name": "Python 3"
    },
    "language_info": {
      "name": "python"
    }
  },
  "cells": [
    {
      "cell_type": "markdown",
      "source": [
        "## Colab"
      ],
      "metadata": {
        "id": "HFFIq44J1A22"
      }
    },
    {
      "cell_type": "code",
      "execution_count": 57,
      "metadata": {
        "colab": {
          "base_uri": "https://localhost:8080/"
        },
        "id": "OJ2PyEIPkeBq",
        "outputId": "90c5595a-5428-4aba-d1fd-d8e535989bd6"
      },
      "outputs": [
        {
          "output_type": "stream",
          "name": "stdout",
          "text": [
            "Drive already mounted at /content/drive; to attempt to forcibly remount, call drive.mount(\"/content/drive\", force_remount=True).\n"
          ]
        }
      ],
      "source": [
        "from google.colab import drive\n",
        "from google.colab import userdata\n",
        "drive.mount('/content/drive')"
      ]
    },
    {
      "cell_type": "markdown",
      "source": [
        "## Installation"
      ],
      "metadata": {
        "id": "HiJbn40D1E8Q"
      }
    },
    {
      "cell_type": "code",
      "source": [
        "!pip install -qU langchain-community faiss-cpu langchain-openai langchain langchainhub tiktoken"
      ],
      "metadata": {
        "id": "LoCe7D4Lk5nk"
      },
      "execution_count": 58,
      "outputs": []
    },
    {
      "cell_type": "markdown",
      "source": [
        "## Path to FAISS index"
      ],
      "metadata": {
        "id": "XkmSdqjf1HUU"
      }
    },
    {
      "cell_type": "code",
      "source": [
        "import os\n",
        "from langchain_openai import OpenAIEmbeddings\n",
        "\n",
        "os.environ['OPENAI_API_KEY'] = userdata.get('openAI')\n",
        "embeddings = OpenAIEmbeddings(model=\"text-embedding-3-small\")\n",
        "\n",
        "# Index Path(Directory to save initialized index)\n",
        "DRIVE_PATH = '/content/drive/MyDrive/RAG_JSON_EMBEDDINGS_INDEX'\n",
        "INDEX_DIR_PATH = os.path.join(DRIVE_PATH, \"INDEX\")\n",
        "HA_INDEX_PATH = os.path.join(INDEX_DIR_PATH, \"HA_TEST_INDEX\")\n",
        "if not os.path.exists(INDEX_DIR_PATH):\n",
        "    os.makedirs(INDEX_DIR_PATH)\n",
        "\n",
        "if not os.path.exists(HA_INDEX_PATH):\n",
        "    os.makedirs(HA_INDEX_PATH)\n",
        "\n",
        "faiss_index_path = os.path.join(HA_INDEX_PATH, \"test_faiss_index\")"
      ],
      "metadata": {
        "id": "6XygKXPnk8cT"
      },
      "execution_count": 71,
      "outputs": []
    },
    {
      "cell_type": "markdown",
      "source": [
        "## Applying Exponenial Backoff"
      ],
      "metadata": {
        "id": "NSXGhEID1L_U"
      }
    },
    {
      "cell_type": "code",
      "source": [
        "# Faiss index set\n",
        "import faiss\n",
        "from langchain_community.docstore.in_memory import InMemoryDocstore\n",
        "from langchain_community.vectorstores import FAISS\n",
        "\n",
        "loaded_vector_store = FAISS.load_local(faiss_index_path, embeddings, allow_dangerous_deserialization=True)"
      ],
      "metadata": {
        "id": "atPex3KelN2Z"
      },
      "execution_count": 72,
      "outputs": []
    },
    {
      "cell_type": "code",
      "source": [
        "from langchain.prompts import ChatPromptTemplate\n",
        "\n",
        "# Multi Query: Different Perspectives\n",
        "template = \"\"\"\n",
        "    You are an expert planning a date for loved one, family and friends.\n",
        "    Your task is retrieving relevant data to generate a date plan.\n",
        "    You have access to a database of locations for dating in Seoul.\n",
        "    Your task is to generate five different versions of the given user question to retrieve relevant documents from a vector\n",
        "    database.\n",
        "    By generating multiple perspectives on the user question, your goal is to help the user overcome some of the limitations of the distance-based similarity search.\n",
        "\n",
        "\n",
        "    Each row in the table represents a location and its featrues.\n",
        "    Features are separated by [SEP].\n",
        "    If a row have 'None' in the feature, it means that the row doens't have that feature.\n",
        "    Every row is in Korean while column names are in English.\n",
        "    Provide these alternative questions separated by newlines.\n",
        "    Original question: {question}\"\"\"\n",
        "prompt_perspectives = ChatPromptTemplate.from_template(template)\n",
        "\n",
        "from langchain_core.output_parsers import StrOutputParser\n",
        "from langchain_openai import ChatOpenAI\n",
        "\n",
        "generate_queries = (\n",
        "    prompt_perspectives\n",
        "    | ChatOpenAI(temperature=0)\n",
        "    | StrOutputParser()\n",
        "    | (lambda x: x.split(\"\\n\"))\n",
        ")"
      ],
      "metadata": {
        "id": "iFr5xfBxrwM0"
      },
      "execution_count": 73,
      "outputs": []
    },
    {
      "cell_type": "code",
      "source": [
        "from langchain.load import dumps, loads\n",
        "\n",
        "def get_unique_union(documents: list[list]):\n",
        "    \"\"\" Unique union of retrieved docs \"\"\"\n",
        "    # Flatten list of lists, and convert each Document to string\n",
        "    flattened_docs = [dumps(doc) for sublist in documents for doc in sublist]\n",
        "    # Get unique documents\n",
        "    unique_docs = list(set(flattened_docs))\n",
        "    # Return\n",
        "    return [loads(doc) for doc in unique_docs]\n",
        "\n",
        "retriever = loaded_vector_store.as_retriever(\n",
        "    search_type=\"mmr\",\n",
        "    search_kwargs={\"k\": 10, \"fetch_k\": 30}\n",
        ")\n",
        "\n",
        "# Retrieval chain\n",
        "retrieval_chain = generate_queries | retriever.map() | get_unique_union"
      ],
      "metadata": {
        "id": "vrpvo6CfPtWU"
      },
      "execution_count": 74,
      "outputs": []
    },
    {
      "cell_type": "code",
      "source": [
        "from operator import itemgetter\n",
        "from langchain_openai import ChatOpenAI\n",
        "from langchain_core.runnables import RunnablePassthrough\n",
        "question = \"성북구에서 할 수 있는 식도락 데이트!\"\n",
        "# RAG\n",
        "template = \"\"\"\n",
        "- You are a helpful assistant that answers questions about the context below.\n",
        "- You do not make up answers to questions that cannot be found in the context.\n",
        "- If you don't know the answer to a question, just say that you don't know. Don't try to make up an answer.\n",
        "- You will generate a list of activities and please follow the format:\n",
        "[\n",
        "  {{\n",
        "    \"activityTitle\": Get the name of the place,\n",
        "    \"activityLoc\": Get the address of the place,\n",
        "    \"timeTotal\": Generate your expected time about the place or just put 1 hour,\n",
        "    \"activityDescription\": Generate a description of the place based on your understanding,\n",
        "    \"activityImage\": Get url of the place\n",
        "  }},\n",
        "  ...\n",
        "]\n",
        "- Make sure the list contains at least 5 activities\n",
        "- You have to answer in Korean.\n",
        "\n",
        "Answer the following question based on this context:\n",
        "\n",
        "{context}\n",
        "\n",
        "Question: {question}\n",
        "\"\"\"\n",
        "\n",
        "prompt = ChatPromptTemplate.from_template(template)\n",
        "\n",
        "# llm = ChatOpenAI(temperature=0).with_structured_output(Search)\n",
        "llm = ChatOpenAI(model_name=\"gpt-4o-mini\", temperature=0)\n",
        "\n",
        "final_rag_chain = (\n",
        "    {\"context\": retrieval_chain,\n",
        "     \"question\": itemgetter(\"question\")}\n",
        "    | prompt\n",
        "    | llm\n",
        "    | StrOutputParser()\n",
        ")"
      ],
      "metadata": {
        "id": "ae4qg9U7P4ml"
      },
      "execution_count": 75,
      "outputs": []
    },
    {
      "cell_type": "code",
      "source": [
        "from tenacity import (\n",
        "    retry,\n",
        "    stop_after_attempt,\n",
        "    wait_random_exponential,\n",
        ")\n",
        "\n",
        "\n",
        "@retry(wait=wait_random_exponential(min=1, max=20), stop=stop_after_attempt(3))\n",
        "def completion_with_backoff(qa_chain, question):\n",
        "    return qa_chain.invoke({\"question\":question})"
      ],
      "metadata": {
        "id": "UIJPBVN3u-sW"
      },
      "execution_count": 83,
      "outputs": []
    },
    {
      "cell_type": "code",
      "source": [
        "print(final_rag_chain.invoke({\"question\": \"성북구에서 할 수 있는 식도락 데이트\"}))"
      ],
      "metadata": {
        "colab": {
          "base_uri": "https://localhost:8080/"
        },
        "id": "SHwWcis4RFq2",
        "outputId": "22d28860-1561-4479-8560-3d41df430c2d"
      },
      "execution_count": 80,
      "outputs": [
        {
          "output_type": "stream",
          "name": "stdout",
          "text": [
            "[\n",
            "  {\n",
            "    \"activityTitle\": \"천상애장어가\",\n",
            "    \"activityLoc\": \"서울 성북구 동소문로6길 22 1층\",\n",
            "    \"timeTotal\": \"1시간\",\n",
            "    \"activityDescription\": \"신선한 장어와 다양한 반찬을 제공하는 장어 전문점으로, 편안한 분위기에서 맛있는 식사를 즐길 수 있습니다. 사장님의 친절한 서비스와 함께하는 소중한 시간을 보낼 수 있는 곳입니다.\",\n",
            "    \"activityImage\": \"https://naver.me/FYuVRZ09\"\n",
            "  },\n",
            "  {\n",
            "    \"activityTitle\": \"국민낙곱새 길음점\",\n",
            "    \"activityLoc\": \"서울 성북구 삼양로 35 1층 102호\",\n",
            "    \"timeTotal\": \"1시간\",\n",
            "    \"activityDescription\": \"성북구의 대표 낙곱새 맛집으로, 위생적인 환경에서 맛있는 낙곱새를 즐길 수 있습니다. 친절한 서비스와 함께하는 맛있는 식사가 가능합니다.\",\n",
            "    \"activityImage\": \"https://naver.me/5X9gjgLf\"\n",
            "  },\n",
            "  {\n",
            "    \"activityTitle\": \"거기식당\",\n",
            "    \"activityLoc\": \"서울 성북구 정릉로9길 14-5\",\n",
            "    \"timeTotal\": \"1시간\",\n",
            "    \"activityDescription\": \"국민대 후문 근처에 위치한 한식당으로, 정갈한 음식과 친절한 서비스가 특징입니다. 오랜만에 방문해도 반가운 추억을 떠올리게 하는 곳입니다.\",\n",
            "    \"activityImage\": \"https://naver.me/xpPLYNIO\"\n",
            "  },\n",
            "  {\n",
            "    \"activityTitle\": \"이향 본점\",\n",
            "    \"activityLoc\": \"서울 성북구 성북로26길 13\",\n",
            "    \"timeTotal\": \"1시간\",\n",
            "    \"activityDescription\": \"깔끔한 한정식과 정성 가득한 약선밥을 제공하는 맛집으로, 건강한 식사를 원하시는 분들에게 추천합니다. 조용한 분위기에서 편안하게 식사할 수 있습니다.\",\n",
            "    \"activityImage\": \"https://naver.me/GSiDhhVn\"\n",
            "  },\n",
            "  {\n",
            "    \"activityTitle\": \"장위기사식당\",\n",
            "    \"activityLoc\": \"서울 성북구 돌곶이로 215\",\n",
            "    \"timeTotal\": \"1시간\",\n",
            "    \"activityDescription\": \"24시간 운영되는 기사식당으로, 다양한 백반 메뉴와 푸짐한 양이 특징입니다. 편안한 분위기에서 집밥 같은 식사를 즐길 수 있는 곳입니다.\",\n",
            "    \"activityImage\": \"https://naver.me/59jNN1sc\"\n",
            "  }\n",
            "]\n"
          ]
        }
      ]
    },
    {
      "cell_type": "code",
      "source": [
        "print(completion_with_backoff(final_rag_chain, \"성북구에서 할 수 있는 식도락 데이트!\"))"
      ],
      "metadata": {
        "colab": {
          "base_uri": "https://localhost:8080/"
        },
        "id": "qcFRf4VRQpY-",
        "outputId": "618e52ba-d5c4-4e7a-8ad4-517bfecf662c"
      },
      "execution_count": 85,
      "outputs": [
        {
          "output_type": "stream",
          "name": "stdout",
          "text": [
            "[\n",
            "  {\n",
            "    \"activityTitle\": \"천상애장어가\",\n",
            "    \"activityLoc\": \"서울 성북구 동소문로6길 22 1층\",\n",
            "    \"timeTotal\": \"1시간\",\n",
            "    \"activityDescription\": \"신선한 장어와 다양한 반찬, 국수까지 맛볼 수 있는 장어 전문점입니다. 사장님의 친절한 서비스와 아늑한 분위기로 데이트에 적합한 장소입니다.\",\n",
            "    \"activityImage\": \"https://naver.me/FYuVRZ09\"\n",
            "  },\n",
            "  {\n",
            "    \"activityTitle\": \"누브티스 성북동점\",\n",
            "    \"activityLoc\": \"서울 성북구 선잠로 42\",\n",
            "    \"timeTotal\": \"1시간\",\n",
            "    \"activityDescription\": \"아름다운 정원과 독특한 인테리어가 매력적인 이탈리안 퓨전 레스토랑입니다. 파스타와 피자가 특히 맛있어 데이트에 적합한 장소입니다.\",\n",
            "    \"activityImage\": \"https://naver.me/xw694Mb0\"\n",
            "  },\n",
            "  {\n",
            "    \"activityTitle\": \"거기식당\",\n",
            "    \"activityLoc\": \"서울 성북구 정릉로9길 14-5\",\n",
            "    \"timeTotal\": \"1시간\",\n",
            "    \"activityDescription\": \"국민대 후문에 위치한 한식당으로, 정갈한 반찬과 맛있는 한식을 제공합니다. 오랜만에 방문해도 변함없는 맛이 매력적입니다.\",\n",
            "    \"activityImage\": \"https://naver.me/xpPLYNIO\"\n",
            "  },\n",
            "  {\n",
            "    \"activityTitle\": \"이향 본점\",\n",
            "    \"activityLoc\": \"서울 성북구 성북로26길 13\",\n",
            "    \"timeTotal\": \"1시간\",\n",
            "    \"activityDescription\": \"건강한 나물 돌솥밥을 제공하는 한정식집으로, 깔끔한 반찬과 정성 가득한 약선밥이 특징입니다. 조용한 분위기에서 식사하기 좋습니다.\",\n",
            "    \"activityImage\": \"https://naver.me/GSiDhhVn\"\n",
            "  },\n",
            "  {\n",
            "    \"activityTitle\": \"백만원식당\",\n",
            "    \"activityLoc\": \"서울 성북구 고려대로5길 75 1층\",\n",
            "    \"timeTotal\": \"1시간\",\n",
            "    \"activityDescription\": \"제주도에서 온 신선한 재료로 만든 다양한 한식 메뉴를 제공하는 맛집입니다. 푸짐한 양과 정갈한 상차림이 매력적입니다.\",\n",
            "    \"activityImage\": \"https://naver.me/5Tv3i5b4\"\n",
            "  }\n",
            "]\n"
          ]
        }
      ]
    },
    {
      "cell_type": "markdown",
      "source": [
        "## Testing Trial"
      ],
      "metadata": {
        "id": "1ACPwmX71S7D"
      }
    },
    {
      "cell_type": "code",
      "source": [
        "import time\n",
        "from time import sleep\n",
        "\n",
        "for i in range(100):\n",
        "  start_time = time.time()\n",
        "  final_rag_chain.invoke({\"question\":\"성북구에서 할 수 있는 식도락 데이트!\"})\n",
        "  end_time = time.time()\n",
        "  print(f\"{i+1} Elapsed Time: {end_time - start_time:.2f} seconds\")\n",
        "\n",
        "for i in range(100):\n",
        "  start_time = time.time()\n",
        "  completion_with_backoff(final_rag_chain, question = \"성북구에서 할 수 있는 식도락 데이트!\")\n",
        "  end_time = time.time()\n",
        "  print(f\"{i+1} Elapsed Time: {end_time - start_time:.2f} seconds\")"
      ],
      "metadata": {
        "id": "Y60r3sEJIUCQ"
      },
      "execution_count": null,
      "outputs": []
    }
  ]
}