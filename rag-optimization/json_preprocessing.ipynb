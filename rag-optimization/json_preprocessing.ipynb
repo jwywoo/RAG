{
  "nbformat": 4,
  "nbformat_minor": 0,
  "metadata": {
    "colab": {
      "provenance": []
    },
    "kernelspec": {
      "name": "python3",
      "display_name": "Python 3"
    },
    "language_info": {
      "name": "python"
    }
  },
  "cells": [
    {
      "cell_type": "markdown",
      "source": [
        "## Colab Imports"
      ],
      "metadata": {
        "id": "q9Vm7cVgdl6n"
      }
    },
    {
      "cell_type": "code",
      "execution_count": null,
      "metadata": {
        "colab": {
          "base_uri": "https://localhost:8080/"
        },
        "id": "GkjAMGXFOU6s",
        "outputId": "252c6cd3-e930-49b4-f6db-c56dc82ad8c3"
      },
      "outputs": [
        {
          "output_type": "stream",
          "name": "stdout",
          "text": [
            "Mounted at /content/drive\n"
          ]
        }
      ],
      "source": [
        "# importing google drive for the session\n",
        "from google.colab import drive\n",
        "from google.colab import userdata\n",
        "drive.mount('/content/drive')"
      ]
    },
    {
      "cell_type": "markdown",
      "source": [
        "## Methods to preprocess JSON"
      ],
      "metadata": {
        "id": "zN6rMafTdo0e"
      }
    },
    {
      "cell_type": "code",
      "source": [
        "def review_clean_text(dirty_reviews):\n",
        "  clean_reviews = []\n",
        "  for dirty_review in dirty_reviews:\n",
        "    clean_review = dirty_review.replace(\"\\n\", \" \")\n",
        "    clean_reviews.append(clean_review)\n",
        "  return clean_reviews\n",
        "\n",
        "def review_length_check(reviews):\n",
        "  total_length = \",\".join(reviews)\n",
        "  return len(total_length) >= 100\n"
      ],
      "metadata": {
        "id": "7atkxqThoH4b"
      },
      "execution_count": null,
      "outputs": []
    },
    {
      "cell_type": "markdown",
      "source": [
        "## Json Preprocessing\n",
        "- combine every json to one json\n",
        "- Exclude rows with missing values\n",
        "  - Rows with less than 3 reviews\n",
        "  - Rows with small reviews size"
      ],
      "metadata": {
        "id": "IyLdDoM8dsEz"
      }
    },
    {
      "cell_type": "code",
      "source": [
        "import os\n",
        "import json\n",
        "\n",
        "JSON_DIR_PATH = '/content/drive/MyDrive/RAG_JSON_EMBEDDINGS_INDEX'\n",
        "HA_RAG_DATA_PATH = os.path.join(JSON_DIR_PATH, \"JSON/HA_RAG_DATA\")\n",
        "if not os.path.exists(HA_RAG_DATA_PATH):\n",
        "    os.makedirs(HA_RAG_DATA_PATH)\n",
        "\n",
        "with open(os.path.join(HA_RAG_DATA_PATH, \"combined_common.json\"), \"r\") as f:\n",
        "    data = json.load(f)\n",
        "\n",
        "print(len(data))"
      ],
      "metadata": {
        "colab": {
          "base_uri": "https://localhost:8080/"
        },
        "id": "eWsqardK-zf8",
        "outputId": "04ef609b-b24e-408e-d486-cdcbc57606bb"
      },
      "execution_count": null,
      "outputs": [
        {
          "output_type": "stream",
          "name": "stdout",
          "text": [
            "19925\n"
          ]
        }
      ]
    },
    {
      "cell_type": "code",
      "source": [
        "new_json = []\n",
        "dup_check = set()\n",
        "total_length = 0\n",
        "for json_name in os.listdir(HA_RAG_DATA_PATH):\n",
        "    print(json_name)\n",
        "    with open(os.path.join(HA_RAG_DATA_PATH, json_name), \"r\") as f:\n",
        "        data = json.load(f)\n",
        "    total_length += len(data)\n",
        "    for row in data:\n",
        "      dup_check_element = row['ad_gu'] + \" \" + row[\"ad_dong\"] + \" \" + row[\"location\"]\n",
        "      if dup_check_element in dup_check:\n",
        "        continue\n",
        "      else:\n",
        "        if (len(row['reviews']) >= 3 and review_length_check(row['reviews'])):\n",
        "          try:\n",
        "            row['reviews'] = row['reviews'][:5]\n",
        "          except Exception as e:\n",
        "            row['reviews'] = row['reviews'][:3]\n",
        "          row['reviews'] = review_clean_text(row['reviews'])\n",
        "          new_json.append(row)\n",
        "        dup_check.add(dup_check_element)\n",
        "\n",
        "print(f\"Before Preprocessing: {total_length}\")\n",
        "print(f\"After Preprocessing: {len(new_json)}\")\n",
        "\n",
        "\n",
        "with open(os.path.join(HA_RAG_DATA_PATH, \"combined_common.json\"), \"w\") as f:\n",
        "    json.dump(new_json, f, ensure_ascii=False, indent=4)\n"
      ],
      "metadata": {
        "id": "TllzjN6XPbfp",
        "colab": {
          "base_uri": "https://localhost:8080/"
        },
        "outputId": "910503f0-e0f4-44da-a52f-dc9886275217"
      },
      "execution_count": null,
      "outputs": [
        {
          "output_type": "stream",
          "name": "stdout",
          "text": [
            "Gangdong_common.json\n",
            "SeongBuk2.json\n",
            "combined_common_09112024.json\n",
            "combined_common_woo.json\n",
            "combined_common.json\n",
            "Before Preprocessing: 53998\n",
            "After Preprocessing: 21164\n"
          ]
        }
      ]
    }
  ]
}